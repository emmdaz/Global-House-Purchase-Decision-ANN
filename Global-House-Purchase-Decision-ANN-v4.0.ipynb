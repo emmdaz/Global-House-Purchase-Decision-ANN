{
 "cells": [
  {
   "cell_type": "code",
   "execution_count": 1,
   "metadata": {},
   "outputs": [],
   "source": [
    "import tensorflow as tf\n",
    "from tensorflow import keras\n",
    "from tensorflow.keras.models import Sequential\n",
    "from tensorflow.keras.layers import Dense, Conv2D, Dropout, Activation\n",
    "from tensorflow.keras.optimizers import RMSprop, SGD, Adam\n",
    "from tensorflow.keras import regularizers, models, layers\n",
    "from sklearn.preprocessing import StandardScaler\n",
    "\n",
    "import pandas as pd\n",
    "import matplotlib.pyplot as plt\n",
    "import seaborn as sns"
   ]
  },
  {
   "cell_type": "code",
   "execution_count": 2,
   "metadata": {},
   "outputs": [],
   "source": [
    "tf.keras.backend.clear_session()"
   ]
  },
  {
   "cell_type": "code",
   "execution_count": 3,
   "metadata": {},
   "outputs": [
    {
     "name": "stderr",
     "output_type": "stream",
     "text": [
      "\u001b[34m\u001b[1mwandb\u001b[0m: \u001b[33mWARNING\u001b[0m `wandb.require('core')` is a no-op as it is now the default behavior.\n",
      "\u001b[34m\u001b[1mwandb\u001b[0m: Currently logged in as: \u001b[33memmdaz\u001b[0m (\u001b[33memmdaz-zzz\u001b[0m) to \u001b[32mhttps://api.wandb.ai\u001b[0m. Use \u001b[1m`wandb login --relogin`\u001b[0m to force relogin\n"
     ]
    },
    {
     "data": {
      "text/plain": [
       "True"
      ]
     },
     "execution_count": 3,
     "metadata": {},
     "output_type": "execute_result"
    }
   ],
   "source": [
    "import wandb\n",
    "import optuna\n",
    "\n",
    "from wandb.integration.keras import WandbMetricsLogger\n",
    "\n",
    "wandb.require(\"core\")\n",
    "wandb.login()"
   ]
  },
  {
   "cell_type": "code",
   "execution_count": 4,
   "metadata": {},
   "outputs": [],
   "source": [
    "# Carga de los datos\n",
    "\n",
    "ds = pd.read_csv(\"/global_house_purchase_dataset.csv\")\n",
    "# ds.head()"
   ]
  },
  {
   "cell_type": "code",
   "execution_count": 5,
   "metadata": {},
   "outputs": [],
   "source": [
    "# print(\"NaN values: \\n \\n \", ds.isna().sum(),\n",
    "#       \"\\n \\n Types: \\n \\n\", ds.dtypes)"
   ]
  },
  {
   "cell_type": "code",
   "execution_count": 6,
   "metadata": {},
   "outputs": [],
   "source": [
    "# fig, axes = plt.subplots(2, 2, figsize = (10,10))\n",
    "# axes = axes.flatten()\n",
    "\n",
    "# sns.countplot(ds, x = \"country\", color = \"purple\", ax = axes[0])\n",
    "# axes[0].tick_params(axis=\"x\", rotation=90)\n",
    "# axes[0].set_title(\"country\")\n",
    "\n",
    "# sns.countplot(ds, x = \"city\", color = \"grey\", ax = axes[1])\n",
    "# axes[1].tick_params(rotation = 90)\n",
    "# axes[1].set_title(\"city\")\n",
    "\n",
    "# sns.countplot(ds, x = \"property_type\", color = \"orange\", ax = axes[2])\n",
    "# axes[2].tick_params(rotation = 90)\n",
    "# axes[2].set_title(\"property_type\")\n",
    "\n",
    "# sns.countplot(ds, x = \"furnishing_status\", color = \"green\", ax = axes[3])\n",
    "# axes[3].tick_params(rotation = 90)\n",
    "# axes[3].set_title(\"furnishing_status\")\n",
    "\n",
    "# plt.tight_layout()\n",
    "# plt.show() "
   ]
  },
  {
   "cell_type": "code",
   "execution_count": 7,
   "metadata": {
    "scrolled": true
   },
   "outputs": [],
   "source": [
    "# One hot encoding\n",
    "\n",
    "ds = pd.get_dummies(ds, columns = [\"country\", \"city\", \"property_type\", \"furnishing_status\"],\n",
    "                            drop_first = False)\n",
    "ds.drop(\"property_id\", axis = 1, inplace = True)\n",
    "ds = ds.astype(\"float32\")\n",
    "\n",
    "# ds.head()"
   ]
  },
  {
   "cell_type": "code",
   "execution_count": 8,
   "metadata": {
    "scrolled": true
   },
   "outputs": [],
   "source": [
    "# print(\"\\n \\n Types: \\n \\n\", ds.dtypes)"
   ]
  },
  {
   "cell_type": "code",
   "execution_count": 9,
   "metadata": {
    "scrolled": false
   },
   "outputs": [],
   "source": [
    "x = ds.drop(\"decision\", axis=1)\n",
    "y = ds[\"decision\"] "
   ]
  },
  {
   "cell_type": "code",
   "execution_count": 10,
   "metadata": {},
   "outputs": [
    {
     "name": "stdout",
     "output_type": "stream",
     "text": [
      "Train size: 140000\n",
      "Validation size: 40000\n",
      "Test size: 20000\n"
     ]
    }
   ],
   "source": [
    "from sklearn.model_selection import train_test_split\n",
    "\n",
    "X_train, X_temp, y_train, y_temp = train_test_split(x, y, test_size = 0.3, random_state = 5)\n",
    "\n",
    "X_val, X_test, y_val, y_test = train_test_split(X_temp, y_temp, test_size = 1/3, random_state = 5)\n",
    "\n",
    "print(\"Train size:\", len(X_train))\n",
    "print(\"Validation size:\", len(X_val))\n",
    "print(\"Test size:\", len(X_test))"
   ]
  },
  {
   "cell_type": "code",
   "execution_count": 11,
   "metadata": {},
   "outputs": [],
   "source": [
    "# Normalización de los datos\n",
    "\n",
    "scaler = StandardScaler()\n",
    "\n",
    "X_train = scaler.fit_transform(X_train)\n",
    "X_val = scaler.transform(X_val)\n",
    "X_test = scaler.transform(X_test)"
   ]
  },
  {
   "cell_type": "code",
   "execution_count": 12,
   "metadata": {},
   "outputs": [],
   "source": [
    "# X_train.shape "
   ]
  },
  {
   "cell_type": "code",
   "execution_count": 13,
   "metadata": {},
   "outputs": [],
   "source": [
    "def objective(trial):\n",
    "\n",
    "    tf.keras.backend.clear_session()\n",
    "\n",
    "    model = models.Sequential()\n",
    "\n",
    "    # Optuna suggest first layer's neuron units and activation function\n",
    "    \n",
    "    n_units1 = trial.suggest_int(\"Layer_1_units\", 32, 128)\n",
    "    activation_1 = trial.suggest_categorical(\"Activation_1\", [\"relu\", \"sigmoid\"])\n",
    "    model.add(layers.Dense(n_units1, activation = activation_1, input_shape = (X_train.shape[1],)))\n",
    "\n",
    "    # Optuna suggests number of layers\n",
    "    \n",
    "    n_layers = trial.suggest_int(\"n_layers\", 1, 10)\n",
    "\n",
    "    units_per_layer = [n_units1]\n",
    "    activations_per_layer = [activation_1]\n",
    "    dropout_per_layer = []\n",
    "    dropout_percentage_per_layer = []\n",
    "    \n",
    "    # Optuna suggest regularizers for the hidden layers\n",
    "    \n",
    "    regularizer = trial.suggest_categorical(\"Regularizer\", [\"L1\",\"L2\",\"L1L2\"])\n",
    "    r_value = trial.suggest_float(\"regularizer_value\", 1e-6, 1e-4, log = True)\n",
    "    r_value2 = trial.suggest_float(\"regularizer_value_2\", 1e-6, 1e-4, log = True)\n",
    "    \n",
    "    # Optuna suggests activation function, dropout and regularizers\n",
    "    \n",
    "    for i in range(n_layers):\n",
    "        \n",
    "        n_units = trial.suggest_int(f\"Layer_{i+2}_units\", 32, 128)\n",
    "        activation = trial.suggest_categorical(f\"Activation_{i+2}\", [\"relu\", \"sigmoid\"])\n",
    "        \n",
    "        if regularizer == \"L1\":\n",
    "            model.add(layers.Dense(n_units, activation = activation,\n",
    "                                   kernel_regularizer = tf.keras.regularizers.L1(r_value)))\n",
    "        elif regularizer == \"L2\":\n",
    "            model.add(layers.Dense(n_units, activation = activation,\n",
    "                                   kernel_regularizer = tf.keras.regularizers.L2(r_value)))\n",
    "        elif regularizer == \"L1L2\":\n",
    "            model.add(layers.Dense(n_units, activation = activation,\n",
    "                                   kernel_regularizer = tf.keras.regularizers.L1L2(r_value, r_value2)))        \n",
    "        \n",
    "        dropout = trial.suggest_categorical(f\"Dropout_L{i+2}\", [\"y\", \"n\"])\n",
    "        dropout_value = trial.suggest_float(f\"Dropout_valueL{i+2}\",0.2, 0.5)\n",
    "        dropout_per_layer.append(dropout)\n",
    "        \n",
    "        if dropout == \"y\":\n",
    "            model.add(layers.Dropout(dropout_value))\n",
    "            dropout_percentage_per_layer.append(dropout_value)\n",
    "        else:\n",
    "            dropout_percentage_per_layer.append(0.0)     \n",
    "        \n",
    "        units_per_layer.append(n_units)\n",
    "        activations_per_layer.append(activation)\n",
    "\n",
    "    model.add(layers.Dense(1, activation=\"sigmoid\"))\n",
    "    \n",
    "    units_per_layer.append(1)\n",
    "    activations_per_layer.append(\"sigmoid\")\n",
    "\n",
    "    # Optuna suggests learning rate and optimizer\n",
    "    \n",
    "    lr = trial.suggest_float(\"learning_rate\", 1e-5, 1e-2, log=True)\n",
    "    optimizer_name = trial.suggest_categorical(\"optimizer\", [\"adam\", \"sgd\", \"rmsprop\"])\n",
    "\n",
    "    if optimizer_name == \"adam\":\n",
    "        optimizer = tf.keras.optimizers.Adam(learning_rate = lr)\n",
    "    elif optimizer_name == \"sgd\":\n",
    "        optimizer = tf.keras.optimizers.SGD(learning_rate = lr)\n",
    "    else:\n",
    "        optimizer = tf.keras.optimizers.RMSprop(learning_rate = lr)\n",
    "\n",
    "    model.compile(\n",
    "        optimizer = optimizer,\n",
    "        loss = \"binary_crossentropy\",\n",
    "        metrics = [\"accuracy\"]\n",
    "    )\n",
    "\n",
    "    wandb.init(\n",
    "        project = \"Global-House-Purchase-Decision-ANN-Trials-4\",\n",
    "        name = f\"Trial_{trial.number}\",\n",
    "        reinit = True,\n",
    "        config = {\n",
    "            \"n_layers\": n_layers,\n",
    "            \"units_per_layer\": units_per_layer,\n",
    "            \"activations_per_layer\": activations_per_layer,\n",
    "            \"regularizer\": regularizer,\n",
    "            \"dropout_per_layer\": dropout_per_layer,\n",
    "            \"dropout_percentage_per_layer\": dropout_percentage_per_layer,\n",
    "            \"learning_rate\": lr,\n",
    "            \"optimizer\": optimizer_name\n",
    "        }\n",
    "    )\n",
    "\n",
    "    batch_size = trial.suggest_categorical(\"batch_size\", [20, 40, 50, 100])\n",
    "\n",
    "    history = model.fit(\n",
    "        X_train, y_train,\n",
    "        validation_data = (X_test, y_test),\n",
    "        epochs = 100,\n",
    "        batch_size = batch_size,\n",
    "        verbose = 0, \n",
    "        callbacks = [WandbMetricsLogger(log_freq=5)]\n",
    "    )\n",
    "\n",
    "    val_loss = min(history.history[\"val_loss\"])\n",
    "    train_loss = min(history.history[\"loss\"])\n",
    "\n",
    "    # Penalize overfitting\n",
    "    score = val_loss + 0.1 * (train_loss - val_loss)\n",
    "\n",
    "    wandb.finish()\n",
    "\n",
    "    return score\n"
   ]
  },
  {
   "cell_type": "code",
   "execution_count": null,
   "metadata": {
    "scrolled": false
   },
   "outputs": [
    {
     "name": "stderr",
     "output_type": "stream",
     "text": [
      "[I 2025-10-14 17:13:20,357] A new study created in memory with name: Proyecto\n",
      "\u001b[34m\u001b[1mwandb\u001b[0m: \u001b[33mWARNING\u001b[0m Using a boolean value for 'reinit' is deprecated. Use 'return_previous' or 'finish_previous' instead.\n"
     ]
    },
    {
     "data": {
      "text/html": [],
      "text/plain": [
       "<IPython.core.display.HTML object>"
      ]
     },
     "metadata": {},
     "output_type": "display_data"
    },
    {
     "data": {
      "text/html": [
       "Tracking run with wandb version 0.22.0"
      ],
      "text/plain": [
       "<IPython.core.display.HTML object>"
      ]
     },
     "metadata": {},
     "output_type": "display_data"
    },
    {
     "data": {
      "text/html": [
       "Run data is saved locally in <code>/tf/Global-House-Purchase-Decision-ANN/wandb/run-20251014_171320-6gtrq72c</code>"
      ],
      "text/plain": [
       "<IPython.core.display.HTML object>"
      ]
     },
     "metadata": {},
     "output_type": "display_data"
    },
    {
     "data": {
      "text/html": [
       "Syncing run <strong><a href='https://wandb.ai/emmdaz-zzz/Global-House-Purchase-Decision-ANN-Trials-4/runs/6gtrq72c' target=\"_blank\">Trial_0</a></strong> to <a href='https://wandb.ai/emmdaz-zzz/Global-House-Purchase-Decision-ANN-Trials-4' target=\"_blank\">Weights & Biases</a> (<a href='https://wandb.me/developer-guide' target=\"_blank\">docs</a>)<br>"
      ],
      "text/plain": [
       "<IPython.core.display.HTML object>"
      ]
     },
     "metadata": {},
     "output_type": "display_data"
    },
    {
     "data": {
      "text/html": [
       " View project at <a href='https://wandb.ai/emmdaz-zzz/Global-House-Purchase-Decision-ANN-Trials-4' target=\"_blank\">https://wandb.ai/emmdaz-zzz/Global-House-Purchase-Decision-ANN-Trials-4</a>"
      ],
      "text/plain": [
       "<IPython.core.display.HTML object>"
      ]
     },
     "metadata": {},
     "output_type": "display_data"
    },
    {
     "data": {
      "text/html": [
       " View run at <a href='https://wandb.ai/emmdaz-zzz/Global-House-Purchase-Decision-ANN-Trials-4/runs/6gtrq72c' target=\"_blank\">https://wandb.ai/emmdaz-zzz/Global-House-Purchase-Decision-ANN-Trials-4/runs/6gtrq72c</a>"
      ],
      "text/plain": [
       "<IPython.core.display.HTML object>"
      ]
     },
     "metadata": {},
     "output_type": "display_data"
    },
    {
     "data": {
      "text/html": [],
      "text/plain": [
       "<IPython.core.display.HTML object>"
      ]
     },
     "metadata": {},
     "output_type": "display_data"
    },
    {
     "data": {
      "text/html": [
       "<br>    <style><br>        .wandb-row {<br>            display: flex;<br>            flex-direction: row;<br>            flex-wrap: wrap;<br>            justify-content: flex-start;<br>            width: 100%;<br>        }<br>        .wandb-col {<br>            display: flex;<br>            flex-direction: column;<br>            flex-basis: 100%;<br>            flex: 1;<br>            padding: 10px;<br>        }<br>    </style><br><div class=\"wandb-row\"><div class=\"wandb-col\"><h3>Run history:</h3><br/><table class=\"wandb\"><tr><td>batch/accuracy</td><td>▁▁▄▅▅▆▆▆▆▇▇▇▇▆▇▇▆▇▇▇▇▇▇▇█▇▇▇▇▇▇▇▇▇▆▇▇▇▇▇</td></tr><tr><td>batch/batch_step</td><td>▁▁▁▁▁▁▁▂▂▂▂▃▃▃▃▃▃▄▄▄▄▄▄▄▄▅▅▆▆▆▆▆▆▇▇▇▇▇▇█</td></tr><tr><td>batch/learning_rate</td><td>▁▁▁▁▁▁▁▁▁▁▁▁▁▁▁▁▁▁▁▁▁▁▁▁▁▁▁▁▁▁▁▁▁▁▁▁▁▁▁▁</td></tr><tr><td>batch/loss</td><td>█▁▁▁▁▁▁▁▁▁▁▁▁▁▁▁▁▁▁▁▁▁▁▁▁▁▁▁▁▁▁▁▁▁▁▁▁▁▁▁</td></tr><tr><td>epoch/accuracy</td><td>▁▁▂▃▄▅▅▅▆▆▆▆▆▇▇▇▆▇▇█▇▇▇▇▇█▇▇▇██▇███▇█▇▇▇</td></tr><tr><td>epoch/epoch</td><td>▁▁▁▁▂▂▂▂▂▃▃▃▃▃▃▄▄▄▄▅▅▅▅▅▅▆▆▆▆▆▆▇▇▇▇▇▇▇██</td></tr><tr><td>epoch/learning_rate</td><td>▁▁▁▁▁▁▁▁▁▁▁▁▁▁▁▁▁▁▁▁▁▁▁▁▁▁▁▁▁▁▁▁▁▁▁▁▁▁▁▁</td></tr><tr><td>epoch/loss</td><td>█▂▁▁▁▁▁▁▁▁▁▁▁▁▁▁▁▁▁▁▁▁▁▁▁▁▁▁▁▁▁▁▁▁▁▁▁▁▁▁</td></tr><tr><td>epoch/val_accuracy</td><td>▃▂▆▂▁▆▄▅▇▃▅▂▂▅▅▇▇▇▅▇▇▇▇▆▇▆▃▇▅█▅▅▄▄▇▆▅▇▇▇</td></tr><tr><td>epoch/val_loss</td><td>▂▁▁▁▁▁▁▁▁▁▁▁▁▁▁▁▁▁▁▁▁▁▁▁▁▁▁▁▁▁▁▁▁▁▁▁▁▁█▁</td></tr></table><br/></div><div class=\"wandb-col\"><h3>Run summary:</h3><br/><table class=\"wandb\"><tr><td>batch/accuracy</td><td>0.999</td></tr><tr><td>batch/batch_step</td><td>139995</td></tr><tr><td>batch/learning_rate</td><td>0.00425</td></tr><tr><td>batch/loss</td><td>0.00684</td></tr><tr><td>epoch/accuracy</td><td>0.99901</td></tr><tr><td>epoch/epoch</td><td>99</td></tr><tr><td>epoch/learning_rate</td><td>0.00425</td></tr><tr><td>epoch/loss</td><td>0.00682</td></tr><tr><td>epoch/val_accuracy</td><td>0.99765</td></tr><tr><td>epoch/val_loss</td><td>0.02436</td></tr></table><br/></div></div>"
      ],
      "text/plain": [
       "<IPython.core.display.HTML object>"
      ]
     },
     "metadata": {},
     "output_type": "display_data"
    },
    {
     "data": {
      "text/html": [
       " View run <strong style=\"color:#cdcd00\">Trial_0</strong> at: <a href='https://wandb.ai/emmdaz-zzz/Global-House-Purchase-Decision-ANN-Trials-4/runs/6gtrq72c' target=\"_blank\">https://wandb.ai/emmdaz-zzz/Global-House-Purchase-Decision-ANN-Trials-4/runs/6gtrq72c</a><br> View project at: <a href='https://wandb.ai/emmdaz-zzz/Global-House-Purchase-Decision-ANN-Trials-4' target=\"_blank\">https://wandb.ai/emmdaz-zzz/Global-House-Purchase-Decision-ANN-Trials-4</a><br>Synced 5 W&B file(s), 0 media file(s), 0 artifact file(s) and 0 other file(s)"
      ],
      "text/plain": [
       "<IPython.core.display.HTML object>"
      ]
     },
     "metadata": {},
     "output_type": "display_data"
    },
    {
     "data": {
      "text/html": [
       "Find logs at: <code>./wandb/run-20251014_171320-6gtrq72c/logs</code>"
      ],
      "text/plain": [
       "<IPython.core.display.HTML object>"
      ]
     },
     "metadata": {},
     "output_type": "display_data"
    },
    {
     "name": "stderr",
     "output_type": "stream",
     "text": [
      "[I 2025-10-14 17:17:12,171] Trial 0 finished with value: 0.0063767386600375175 and parameters: {'Layer_1_units': 111, 'Activation_1': 'relu', 'n_layers': 3, 'Regularizer': 'L2', 'regularizer_value': 1.2916814176250966e-06, 'regularizer_value_2': 5.826412325387065e-06, 'Layer_2_units': 63, 'Activation_2': 'sigmoid', 'Dropout_L2': 'n', 'Dropout_valueL2': 0.40200603606984886, 'Layer_3_units': 108, 'Activation_3': 'relu', 'Dropout_L3': 'y', 'Dropout_valueL3': 0.25941623252421053, 'Layer_4_units': 119, 'Activation_4': 'relu', 'Dropout_L4': 'y', 'Dropout_valueL4': 0.3241657875086515, 'learning_rate': 0.004253091471652316, 'optimizer': 'rmsprop', 'batch_size': 100}. Best is trial 0 with value: 0.0063767386600375175.\n"
     ]
    },
    {
     "data": {
      "text/html": [],
      "text/plain": [
       "<IPython.core.display.HTML object>"
      ]
     },
     "metadata": {},
     "output_type": "display_data"
    },
    {
     "data": {
      "text/html": [
       "Tracking run with wandb version 0.22.0"
      ],
      "text/plain": [
       "<IPython.core.display.HTML object>"
      ]
     },
     "metadata": {},
     "output_type": "display_data"
    },
    {
     "data": {
      "text/html": [
       "Run data is saved locally in <code>/tf/Global-House-Purchase-Decision-ANN/wandb/run-20251014_171712-wibdtmze</code>"
      ],
      "text/plain": [
       "<IPython.core.display.HTML object>"
      ]
     },
     "metadata": {},
     "output_type": "display_data"
    },
    {
     "data": {
      "text/html": [
       "Syncing run <strong><a href='https://wandb.ai/emmdaz-zzz/Global-House-Purchase-Decision-ANN-Trials-4/runs/wibdtmze' target=\"_blank\">Trial_1</a></strong> to <a href='https://wandb.ai/emmdaz-zzz/Global-House-Purchase-Decision-ANN-Trials-4' target=\"_blank\">Weights & Biases</a> (<a href='https://wandb.me/developer-guide' target=\"_blank\">docs</a>)<br>"
      ],
      "text/plain": [
       "<IPython.core.display.HTML object>"
      ]
     },
     "metadata": {},
     "output_type": "display_data"
    },
    {
     "data": {
      "text/html": [
       " View project at <a href='https://wandb.ai/emmdaz-zzz/Global-House-Purchase-Decision-ANN-Trials-4' target=\"_blank\">https://wandb.ai/emmdaz-zzz/Global-House-Purchase-Decision-ANN-Trials-4</a>"
      ],
      "text/plain": [
       "<IPython.core.display.HTML object>"
      ]
     },
     "metadata": {},
     "output_type": "display_data"
    },
    {
     "data": {
      "text/html": [
       " View run at <a href='https://wandb.ai/emmdaz-zzz/Global-House-Purchase-Decision-ANN-Trials-4/runs/wibdtmze' target=\"_blank\">https://wandb.ai/emmdaz-zzz/Global-House-Purchase-Decision-ANN-Trials-4/runs/wibdtmze</a>"
      ],
      "text/plain": [
       "<IPython.core.display.HTML object>"
      ]
     },
     "metadata": {},
     "output_type": "display_data"
    },
    {
     "data": {
      "text/html": [],
      "text/plain": [
       "<IPython.core.display.HTML object>"
      ]
     },
     "metadata": {},
     "output_type": "display_data"
    },
    {
     "data": {
      "text/html": [
       "<br>    <style><br>        .wandb-row {<br>            display: flex;<br>            flex-direction: row;<br>            flex-wrap: wrap;<br>            justify-content: flex-start;<br>            width: 100%;<br>        }<br>        .wandb-col {<br>            display: flex;<br>            flex-direction: column;<br>            flex-basis: 100%;<br>            flex: 1;<br>            padding: 10px;<br>        }<br>    </style><br><div class=\"wandb-row\"><div class=\"wandb-col\"><h3>Run history:</h3><br/><table class=\"wandb\"><tr><td>batch/accuracy</td><td>▁▂▁▃▄▄▄▅▇▄▅▇▅▅▆▅█▄▅▂▅▄▄▅▄▃▇▅▅▅▂▅▅▅▅▇▆▅▅▅</td></tr><tr><td>batch/batch_step</td><td>▁▂▂▂▂▂▂▂▂▃▃▃▃▃▃▃▄▄▄▅▅▅▅▅▅▅▅▆▆▆▆▆▇▇▇▇▇███</td></tr><tr><td>batch/learning_rate</td><td>▁▁▁▁▁▁▁▁▁▁▁▁▁▁▁▁▁▁▁▁▁▁▁▁▁▁▁▁▁▁▁▁▁▁▁▁▁▁▁▁</td></tr><tr><td>batch/loss</td><td>█▄▃▃▃▂▂▂▂▂▂▂▂▂▁▂▂▁▂▂▂▂▁▂▂▂▁▂▂▁▁▁▁▁▁▁▁▂▂▁</td></tr><tr><td>epoch/accuracy</td><td>▁▇██████████████████████████████████████</td></tr><tr><td>epoch/epoch</td><td>▁▁▁▂▂▂▃▃▃▃▃▃▃▃▄▄▄▄▄▄▅▅▅▅▅▅▆▆▆▆▆▆▇▇▇▇▇▇██</td></tr><tr><td>epoch/learning_rate</td><td>▁▁▁▁▁▁▁▁▁▁▁▁▁▁▁▁▁▁▁▁▁▁▁▁▁▁▁▁▁▁▁▁▁▁▁▁▁▁▁▁</td></tr><tr><td>epoch/loss</td><td>█▇▇▅▅▄▃▂▃▃▂▂▂▂▂▂▂▂▂▁▁▁▁▁▁▁▁▁▁▁▁▁▁▁▁▁▁▁▁▁</td></tr><tr><td>epoch/val_accuracy</td><td>▁▁▁▁▁▁▁▁▁▁▁▁▁▁▁▁▁▁▁▁▁▁▁▁▁▁▁▁▁▁▁▁▁▁▁▁▁▁▁▁</td></tr><tr><td>epoch/val_loss</td><td>▆█▆▆▄▂▄▂▂▁▁▁▁▁▁▁▁▁▁▁▁▁▁▁▁▁▁▁▁▁▁▁▁▁▁▁▁▁▁▁</td></tr></table><br/></div><div class=\"wandb-col\"><h3>Run summary:</h3><br/><table class=\"wandb\"><tr><td>batch/accuracy</td><td>0.76916</td></tr><tr><td>batch/batch_step</td><td>139995</td></tr><tr><td>batch/learning_rate</td><td>0.00065</td></tr><tr><td>batch/loss</td><td>0.54263</td></tr><tr><td>epoch/accuracy</td><td>0.76921</td></tr><tr><td>epoch/epoch</td><td>99</td></tr><tr><td>epoch/learning_rate</td><td>0.00065</td></tr><tr><td>epoch/loss</td><td>0.54258</td></tr><tr><td>epoch/val_accuracy</td><td>0.7689</td></tr><tr><td>epoch/val_loss</td><td>0.54122</td></tr></table><br/></div></div>"
      ],
      "text/plain": [
       "<IPython.core.display.HTML object>"
      ]
     },
     "metadata": {},
     "output_type": "display_data"
    },
    {
     "data": {
      "text/html": [
       " View run <strong style=\"color:#cdcd00\">Trial_1</strong> at: <a href='https://wandb.ai/emmdaz-zzz/Global-House-Purchase-Decision-ANN-Trials-4/runs/wibdtmze' target=\"_blank\">https://wandb.ai/emmdaz-zzz/Global-House-Purchase-Decision-ANN-Trials-4/runs/wibdtmze</a><br> View project at: <a href='https://wandb.ai/emmdaz-zzz/Global-House-Purchase-Decision-ANN-Trials-4' target=\"_blank\">https://wandb.ai/emmdaz-zzz/Global-House-Purchase-Decision-ANN-Trials-4</a><br>Synced 5 W&B file(s), 0 media file(s), 0 artifact file(s) and 0 other file(s)"
      ],
      "text/plain": [
       "<IPython.core.display.HTML object>"
      ]
     },
     "metadata": {},
     "output_type": "display_data"
    },
    {
     "data": {
      "text/html": [
       "Find logs at: <code>./wandb/run-20251014_171712-wibdtmze/logs</code>"
      ],
      "text/plain": [
       "<IPython.core.display.HTML object>"
      ]
     },
     "metadata": {},
     "output_type": "display_data"
    },
    {
     "name": "stderr",
     "output_type": "stream",
     "text": [
      "[I 2025-10-14 17:21:19,180] Trial 1 finished with value: 0.5413267016410828 and parameters: {'Layer_1_units': 36, 'Activation_1': 'sigmoid', 'n_layers': 7, 'Regularizer': 'L2', 'regularizer_value': 1.5326646337328253e-06, 'regularizer_value_2': 5.7471039015264604e-05, 'Layer_2_units': 104, 'Activation_2': 'relu', 'Dropout_L2': 'n', 'Dropout_valueL2': 0.4708159539323194, 'Layer_3_units': 44, 'Activation_3': 'sigmoid', 'Dropout_L3': 'n', 'Dropout_valueL3': 0.46641945951631153, 'Layer_4_units': 59, 'Activation_4': 'sigmoid', 'Dropout_L4': 'y', 'Dropout_valueL4': 0.3936646577955799, 'Layer_5_units': 66, 'Activation_5': 'sigmoid', 'Dropout_L5': 'n', 'Dropout_valueL5': 0.3611315193524218, 'Layer_6_units': 35, 'Activation_6': 'sigmoid', 'Dropout_L6': 'n', 'Dropout_valueL6': 0.22207984697004243, 'Layer_7_units': 116, 'Activation_7': 'sigmoid', 'Dropout_L7': 'y', 'Dropout_valueL7': 0.26328346910912936, 'Layer_8_units': 56, 'Activation_8': 'sigmoid', 'Dropout_L8': 'y', 'Dropout_valueL8': 0.27650928096907135, 'learning_rate': 0.0006457877197351054, 'optimizer': 'sgd', 'batch_size': 100}. Best is trial 0 with value: 0.0063767386600375175.\n"
     ]
    },
    {
     "data": {
      "text/html": [],
      "text/plain": [
       "<IPython.core.display.HTML object>"
      ]
     },
     "metadata": {},
     "output_type": "display_data"
    },
    {
     "data": {
      "text/html": [
       "Tracking run with wandb version 0.22.0"
      ],
      "text/plain": [
       "<IPython.core.display.HTML object>"
      ]
     },
     "metadata": {},
     "output_type": "display_data"
    },
    {
     "data": {
      "text/html": [
       "Run data is saved locally in <code>/tf/Global-House-Purchase-Decision-ANN/wandb/run-20251014_172119-uax4tn6j</code>"
      ],
      "text/plain": [
       "<IPython.core.display.HTML object>"
      ]
     },
     "metadata": {},
     "output_type": "display_data"
    },
    {
     "data": {
      "text/html": [
       "Syncing run <strong><a href='https://wandb.ai/emmdaz-zzz/Global-House-Purchase-Decision-ANN-Trials-4/runs/uax4tn6j' target=\"_blank\">Trial_2</a></strong> to <a href='https://wandb.ai/emmdaz-zzz/Global-House-Purchase-Decision-ANN-Trials-4' target=\"_blank\">Weights & Biases</a> (<a href='https://wandb.me/developer-guide' target=\"_blank\">docs</a>)<br>"
      ],
      "text/plain": [
       "<IPython.core.display.HTML object>"
      ]
     },
     "metadata": {},
     "output_type": "display_data"
    },
    {
     "data": {
      "text/html": [
       " View project at <a href='https://wandb.ai/emmdaz-zzz/Global-House-Purchase-Decision-ANN-Trials-4' target=\"_blank\">https://wandb.ai/emmdaz-zzz/Global-House-Purchase-Decision-ANN-Trials-4</a>"
      ],
      "text/plain": [
       "<IPython.core.display.HTML object>"
      ]
     },
     "metadata": {},
     "output_type": "display_data"
    },
    {
     "data": {
      "text/html": [
       " View run at <a href='https://wandb.ai/emmdaz-zzz/Global-House-Purchase-Decision-ANN-Trials-4/runs/uax4tn6j' target=\"_blank\">https://wandb.ai/emmdaz-zzz/Global-House-Purchase-Decision-ANN-Trials-4/runs/uax4tn6j</a>"
      ],
      "text/plain": [
       "<IPython.core.display.HTML object>"
      ]
     },
     "metadata": {},
     "output_type": "display_data"
    },
    {
     "data": {
      "text/html": [],
      "text/plain": [
       "<IPython.core.display.HTML object>"
      ]
     },
     "metadata": {},
     "output_type": "display_data"
    },
    {
     "data": {
      "text/html": [
       "<br>    <style><br>        .wandb-row {<br>            display: flex;<br>            flex-direction: row;<br>            flex-wrap: wrap;<br>            justify-content: flex-start;<br>            width: 100%;<br>        }<br>        .wandb-col {<br>            display: flex;<br>            flex-direction: column;<br>            flex-basis: 100%;<br>            flex: 1;<br>            padding: 10px;<br>        }<br>    </style><br><div class=\"wandb-row\"><div class=\"wandb-col\"><h3>Run history:</h3><br/><table class=\"wandb\"><tr><td>batch/accuracy</td><td>▁███████████████████████████████████████</td></tr><tr><td>batch/batch_step</td><td>▁▁▁▁▂▂▂▂▃▃▃▃▄▄▄▄▄▄▄▄▄▅▅▅▆▆▆▆▆▆▇▇▇▇▇▇████</td></tr><tr><td>batch/learning_rate</td><td>▁▁▁▁▁▁▁▁▁▁▁▁▁▁▁▁▁▁▁▁▁▁▁▁▁▁▁▁▁▁▁▁▁▁▁▁▁▁▁▁</td></tr><tr><td>batch/loss</td><td>▄▄▃▃▂█▂▂▁▂▂▂▁▁▁▁▁▁▁▁▁▁▁▁▁▁▁▁▁▁▁▁▁▁▁▁▁▁▁▁</td></tr><tr><td>epoch/accuracy</td><td>▁▂▄▅▅▄▆▅▆▆▆▆▆▆▆▆▇▇▇▇▇▇▇▇▇▇█▇▇█▇█▇▇██████</td></tr><tr><td>epoch/epoch</td><td>▁▁▁▁▂▂▃▃▃▃▃▄▄▄▄▄▄▅▅▅▅▅▅▅▅▆▆▆▆▆▇▇▇▇▇▇▇███</td></tr><tr><td>epoch/learning_rate</td><td>▁▁▁▁▁▁▁▁▁▁▁▁▁▁▁▁▁▁▁▁▁▁▁▁▁▁▁▁▁▁▁▁▁▁▁▁▁▁▁▁</td></tr><tr><td>epoch/loss</td><td>█▆▄▆▆▃▅▃▃▅▄▃▃▃▂▂▂▂▂▂▂▂▁▁▃▂▂▂▂▁▁▁▁▂▁▁▁▁▁▁</td></tr><tr><td>epoch/val_accuracy</td><td>▅▁▄▂▇▇▇▆▇▆▆▇▇▇▇▆▇▇▇▇▇▇█▇▇▅▆▆▇▂▅▆▇▅▅▇▇█▇▇</td></tr><tr><td>epoch/val_loss</td><td>█▃▃▂▂▂▅▃▆▁▃▄▄▂▄▃▅▄▃▆█▄▄▄▅▄▃▄▅▆▅▃▇▆▅█▂▃▄▄</td></tr></table><br/></div><div class=\"wandb-col\"><h3>Run summary:</h3><br/><table class=\"wandb\"><tr><td>batch/accuracy</td><td>0.9999</td></tr><tr><td>batch/batch_step</td><td>139995</td></tr><tr><td>batch/learning_rate</td><td>0.00774</td></tr><tr><td>batch/loss</td><td>0.00091</td></tr><tr><td>epoch/accuracy</td><td>0.9999</td></tr><tr><td>epoch/epoch</td><td>99</td></tr><tr><td>epoch/learning_rate</td><td>0.00774</td></tr><tr><td>epoch/loss</td><td>0.00091</td></tr><tr><td>epoch/val_accuracy</td><td>0.9984</td></tr><tr><td>epoch/val_loss</td><td>0.00736</td></tr></table><br/></div></div>"
      ],
      "text/plain": [
       "<IPython.core.display.HTML object>"
      ]
     },
     "metadata": {},
     "output_type": "display_data"
    },
    {
     "data": {
      "text/html": [
       " View run <strong style=\"color:#cdcd00\">Trial_2</strong> at: <a href='https://wandb.ai/emmdaz-zzz/Global-House-Purchase-Decision-ANN-Trials-4/runs/uax4tn6j' target=\"_blank\">https://wandb.ai/emmdaz-zzz/Global-House-Purchase-Decision-ANN-Trials-4/runs/uax4tn6j</a><br> View project at: <a href='https://wandb.ai/emmdaz-zzz/Global-House-Purchase-Decision-ANN-Trials-4' target=\"_blank\">https://wandb.ai/emmdaz-zzz/Global-House-Purchase-Decision-ANN-Trials-4</a><br>Synced 5 W&B file(s), 0 media file(s), 0 artifact file(s) and 0 other file(s)"
      ],
      "text/plain": [
       "<IPython.core.display.HTML object>"
      ]
     },
     "metadata": {},
     "output_type": "display_data"
    },
    {
     "data": {
      "text/html": [
       "Find logs at: <code>./wandb/run-20251014_172119-uax4tn6j/logs</code>"
      ],
      "text/plain": [
       "<IPython.core.display.HTML object>"
      ]
     },
     "metadata": {},
     "output_type": "display_data"
    },
    {
     "name": "stderr",
     "output_type": "stream",
     "text": [
      "[I 2025-10-14 17:24:07,328] Trial 2 finished with value: 0.003312203101813793 and parameters: {'Layer_1_units': 109, 'Activation_1': 'relu', 'n_layers': 1, 'Regularizer': 'L2', 'regularizer_value': 6.70512194423196e-05, 'regularizer_value_2': 6.953085237713417e-05, 'Layer_2_units': 110, 'Activation_2': 'relu', 'Dropout_L2': 'n', 'Dropout_valueL2': 0.3754195323897358, 'learning_rate': 0.007741658644273408, 'optimizer': 'adam', 'batch_size': 100}. Best is trial 2 with value: 0.003312203101813793.\n"
     ]
    },
    {
     "data": {
      "text/html": [],
      "text/plain": [
       "<IPython.core.display.HTML object>"
      ]
     },
     "metadata": {},
     "output_type": "display_data"
    },
    {
     "data": {
      "text/html": [
       "Tracking run with wandb version 0.22.0"
      ],
      "text/plain": [
       "<IPython.core.display.HTML object>"
      ]
     },
     "metadata": {},
     "output_type": "display_data"
    },
    {
     "data": {
      "text/html": [
       "Run data is saved locally in <code>/tf/Global-House-Purchase-Decision-ANN/wandb/run-20251014_172407-lqvth5ab</code>"
      ],
      "text/plain": [
       "<IPython.core.display.HTML object>"
      ]
     },
     "metadata": {},
     "output_type": "display_data"
    },
    {
     "data": {
      "text/html": [
       "Syncing run <strong><a href='https://wandb.ai/emmdaz-zzz/Global-House-Purchase-Decision-ANN-Trials-4/runs/lqvth5ab' target=\"_blank\">Trial_3</a></strong> to <a href='https://wandb.ai/emmdaz-zzz/Global-House-Purchase-Decision-ANN-Trials-4' target=\"_blank\">Weights & Biases</a> (<a href='https://wandb.me/developer-guide' target=\"_blank\">docs</a>)<br>"
      ],
      "text/plain": [
       "<IPython.core.display.HTML object>"
      ]
     },
     "metadata": {},
     "output_type": "display_data"
    },
    {
     "data": {
      "text/html": [
       " View project at <a href='https://wandb.ai/emmdaz-zzz/Global-House-Purchase-Decision-ANN-Trials-4' target=\"_blank\">https://wandb.ai/emmdaz-zzz/Global-House-Purchase-Decision-ANN-Trials-4</a>"
      ],
      "text/plain": [
       "<IPython.core.display.HTML object>"
      ]
     },
     "metadata": {},
     "output_type": "display_data"
    },
    {
     "data": {
      "text/html": [
       " View run at <a href='https://wandb.ai/emmdaz-zzz/Global-House-Purchase-Decision-ANN-Trials-4/runs/lqvth5ab' target=\"_blank\">https://wandb.ai/emmdaz-zzz/Global-House-Purchase-Decision-ANN-Trials-4/runs/lqvth5ab</a>"
      ],
      "text/plain": [
       "<IPython.core.display.HTML object>"
      ]
     },
     "metadata": {},
     "output_type": "display_data"
    },
    {
     "data": {
      "text/html": [],
      "text/plain": [
       "<IPython.core.display.HTML object>"
      ]
     },
     "metadata": {},
     "output_type": "display_data"
    },
    {
     "data": {
      "text/html": [
       "<br>    <style><br>        .wandb-row {<br>            display: flex;<br>            flex-direction: row;<br>            flex-wrap: wrap;<br>            justify-content: flex-start;<br>            width: 100%;<br>        }<br>        .wandb-col {<br>            display: flex;<br>            flex-direction: column;<br>            flex-basis: 100%;<br>            flex: 1;<br>            padding: 10px;<br>        }<br>    </style><br><div class=\"wandb-row\"><div class=\"wandb-col\"><h3>Run history:</h3><br/><table class=\"wandb\"><tr><td>batch/accuracy</td><td>▄▄▃▄▄▄▂▃▄▄▄▅▄▆▄▂▁▃▅▄▄▂▁▁▅▂▃█▃▆▄▂▄▄▃▆▅▆▇▂</td></tr><tr><td>batch/batch_step</td><td>▁▁▂▂▂▃▃▃▃▃▄▄▄▄▄▄▄▄▅▅▅▅▅▅▅▅▅▅▅▆▆▆▆▆▇▇▇███</td></tr><tr><td>batch/learning_rate</td><td>▁▁▁▁▁▁▁▁▁▁▁▁▁▁▁▁▁▁▁▁▁▁▁▁▁▁▁▁▁▁▁▁▁▁▁▁▁▁▁▁</td></tr><tr><td>batch/loss</td><td>█▆▆▅▂▂▂▂▂▂▂▂▂▂▂▁▁▁▁▁▁▁▁▁▁▁▁▁▁▁▁▁▁▁▁▁▁▁▁▁</td></tr><tr><td>epoch/accuracy</td><td>▁███████████████████████████████████████</td></tr><tr><td>epoch/epoch</td><td>▁▁▁▁▂▂▂▂▂▃▃▃▃▃▃▃▄▄▄▄▄▄▅▅▆▆▆▆▆▆▇▇▇▇▇▇▇▇██</td></tr><tr><td>epoch/learning_rate</td><td>▁▁▁▁▁▁▁▁▁▁▁▁▁▁▁▁▁▁▁▁▁▁▁▁▁▁▁▁▁▁▁▁▁▁▁▁▁▁▁▁</td></tr><tr><td>epoch/loss</td><td>█▄▃▂▂▁▁▁▁▁▁▁▁▁▁▁▁▁▁▁▁▁▁▁▁▁▁▁▁▁▁▁▁▁▁▁▁▁▁▁</td></tr><tr><td>epoch/val_accuracy</td><td>▁▁▁▁▁▁▁▁▁▁▁▁▁▁▁▁▁▁▁▁▁▁▁▁▁▁▁▁▁▁▁▁▁▁▁▁▁▁▁▁</td></tr><tr><td>epoch/val_loss</td><td>█▅▄▃▂▂▂▂▂▂▂▂▂▂▁▁▁▁▁▁▁▁▁▁▁▁▁▁▁▁▁▁▁▁▁▁▁▁▁▁</td></tr></table><br/></div><div class=\"wandb-col\"><h3>Run summary:</h3><br/><table class=\"wandb\"><tr><td>batch/accuracy</td><td>0.76916</td></tr><tr><td>batch/batch_step</td><td>279995</td></tr><tr><td>batch/learning_rate</td><td>1e-05</td></tr><tr><td>batch/loss</td><td>0.54269</td></tr><tr><td>epoch/accuracy</td><td>0.76921</td></tr><tr><td>epoch/epoch</td><td>99</td></tr><tr><td>epoch/learning_rate</td><td>1e-05</td></tr><tr><td>epoch/loss</td><td>0.54262</td></tr><tr><td>epoch/val_accuracy</td><td>0.7689</td></tr><tr><td>epoch/val_loss</td><td>0.5416</td></tr></table><br/></div></div>"
      ],
      "text/plain": [
       "<IPython.core.display.HTML object>"
      ]
     },
     "metadata": {},
     "output_type": "display_data"
    },
    {
     "data": {
      "text/html": [
       " View run <strong style=\"color:#cdcd00\">Trial_3</strong> at: <a href='https://wandb.ai/emmdaz-zzz/Global-House-Purchase-Decision-ANN-Trials-4/runs/lqvth5ab' target=\"_blank\">https://wandb.ai/emmdaz-zzz/Global-House-Purchase-Decision-ANN-Trials-4/runs/lqvth5ab</a><br> View project at: <a href='https://wandb.ai/emmdaz-zzz/Global-House-Purchase-Decision-ANN-Trials-4' target=\"_blank\">https://wandb.ai/emmdaz-zzz/Global-House-Purchase-Decision-ANN-Trials-4</a><br>Synced 5 W&B file(s), 0 media file(s), 0 artifact file(s) and 0 other file(s)"
      ],
      "text/plain": [
       "<IPython.core.display.HTML object>"
      ]
     },
     "metadata": {},
     "output_type": "display_data"
    },
    {
     "data": {
      "text/html": [
       "Find logs at: <code>./wandb/run-20251014_172407-lqvth5ab/logs</code>"
      ],
      "text/plain": [
       "<IPython.core.display.HTML object>"
      ]
     },
     "metadata": {},
     "output_type": "display_data"
    },
    {
     "name": "stderr",
     "output_type": "stream",
     "text": [
      "[I 2025-10-14 17:30:25,047] Trial 3 finished with value: 0.5416972994804382 and parameters: {'Layer_1_units': 93, 'Activation_1': 'sigmoid', 'n_layers': 5, 'Regularizer': 'L1L2', 'regularizer_value': 6.981318946134455e-05, 'regularizer_value_2': 4.559550196033384e-06, 'Layer_2_units': 70, 'Activation_2': 'relu', 'Dropout_L2': 'y', 'Dropout_valueL2': 0.34046500236885735, 'Layer_3_units': 94, 'Activation_3': 'sigmoid', 'Dropout_L3': 'n', 'Dropout_valueL3': 0.42310394225424164, 'Layer_4_units': 43, 'Activation_4': 'sigmoid', 'Dropout_L4': 'n', 'Dropout_valueL4': 0.2224714143360679, 'Layer_5_units': 119, 'Activation_5': 'sigmoid', 'Dropout_L5': 'n', 'Dropout_valueL5': 0.48188215637428505, 'Layer_6_units': 35, 'Activation_6': 'sigmoid', 'Dropout_L6': 'y', 'Dropout_valueL6': 0.4474007307632135, 'learning_rate': 1.3971855325268354e-05, 'optimizer': 'adam', 'batch_size': 50}. Best is trial 2 with value: 0.003312203101813793.\n"
     ]
    },
    {
     "data": {
      "text/html": [],
      "text/plain": [
       "<IPython.core.display.HTML object>"
      ]
     },
     "metadata": {},
     "output_type": "display_data"
    },
    {
     "data": {
      "text/html": [
       "Tracking run with wandb version 0.22.0"
      ],
      "text/plain": [
       "<IPython.core.display.HTML object>"
      ]
     },
     "metadata": {},
     "output_type": "display_data"
    },
    {
     "data": {
      "text/html": [
       "Run data is saved locally in <code>/tf/Global-House-Purchase-Decision-ANN/wandb/run-20251014_173025-515acvh8</code>"
      ],
      "text/plain": [
       "<IPython.core.display.HTML object>"
      ]
     },
     "metadata": {},
     "output_type": "display_data"
    },
    {
     "data": {
      "text/html": [
       "Syncing run <strong><a href='https://wandb.ai/emmdaz-zzz/Global-House-Purchase-Decision-ANN-Trials-4/runs/515acvh8' target=\"_blank\">Trial_4</a></strong> to <a href='https://wandb.ai/emmdaz-zzz/Global-House-Purchase-Decision-ANN-Trials-4' target=\"_blank\">Weights & Biases</a> (<a href='https://wandb.me/developer-guide' target=\"_blank\">docs</a>)<br>"
      ],
      "text/plain": [
       "<IPython.core.display.HTML object>"
      ]
     },
     "metadata": {},
     "output_type": "display_data"
    },
    {
     "data": {
      "text/html": [
       " View project at <a href='https://wandb.ai/emmdaz-zzz/Global-House-Purchase-Decision-ANN-Trials-4' target=\"_blank\">https://wandb.ai/emmdaz-zzz/Global-House-Purchase-Decision-ANN-Trials-4</a>"
      ],
      "text/plain": [
       "<IPython.core.display.HTML object>"
      ]
     },
     "metadata": {},
     "output_type": "display_data"
    },
    {
     "data": {
      "text/html": [
       " View run at <a href='https://wandb.ai/emmdaz-zzz/Global-House-Purchase-Decision-ANN-Trials-4/runs/515acvh8' target=\"_blank\">https://wandb.ai/emmdaz-zzz/Global-House-Purchase-Decision-ANN-Trials-4/runs/515acvh8</a>"
      ],
      "text/plain": [
       "<IPython.core.display.HTML object>"
      ]
     },
     "metadata": {},
     "output_type": "display_data"
    },
    {
     "data": {
      "text/html": [],
      "text/plain": [
       "<IPython.core.display.HTML object>"
      ]
     },
     "metadata": {},
     "output_type": "display_data"
    },
    {
     "data": {
      "text/html": [
       "<br>    <style><br>        .wandb-row {<br>            display: flex;<br>            flex-direction: row;<br>            flex-wrap: wrap;<br>            justify-content: flex-start;<br>            width: 100%;<br>        }<br>        .wandb-col {<br>            display: flex;<br>            flex-direction: column;<br>            flex-basis: 100%;<br>            flex: 1;<br>            padding: 10px;<br>        }<br>    </style><br><div class=\"wandb-row\"><div class=\"wandb-col\"><h3>Run history:</h3><br/><table class=\"wandb\"><tr><td>batch/accuracy</td><td>▁▄▅▆▆▆▇▇▇▇██████████████████████████████</td></tr><tr><td>batch/batch_step</td><td>▁▁▁▁▁▂▂▂▂▃▃▃▃▃▃▄▄▄▄▄▄▄▅▅▅▅▅▅▆▆▆▆▆▇▇▇▇▇██</td></tr><tr><td>batch/learning_rate</td><td>▁▁▁▁▁▁▁▁▁▁▁▁▁▁▁▁▁▁▁▁▁▁▁▁▁▁▁▁▁▁▁▁▁▁▁▁▁▁▁▁</td></tr><tr><td>batch/loss</td><td>█▅▂▂▂▂▁▁▁▁▁▁▁▁▁▁▁▁▁▁▁▁▁▁▁▁▁▁▁▁▁▁▁▁▁▁▁▁▁▁</td></tr><tr><td>epoch/accuracy</td><td>▁▄▆▆▆▆▆▇▇███████████████████████████████</td></tr><tr><td>epoch/epoch</td><td>▁▁▁▁▁▂▂▂▂▃▃▃▃▃▃▄▄▄▄▄▄▄▄▅▅▅▅▅▅▆▆▆▆▆▇▇▇▇██</td></tr><tr><td>epoch/learning_rate</td><td>▁▁▁▁▁▁▁▁▁▁▁▁▁▁▁▁▁▁▁▁▁▁▁▁▁▁▁▁▁▁▁▁▁▁▁▁▁▁▁▁</td></tr><tr><td>epoch/loss</td><td>█▃▃▃▃▂▂▂▂▂▂▁▁▁▁▁▁▁▁▁▁▁▁▁▁▁▁▁▁▁▁▁▁▁▁▁▁▁▁▁</td></tr><tr><td>epoch/val_accuracy</td><td>▁▂▂▃▄▅▆▇▇▇▇█████████████████████████████</td></tr><tr><td>epoch/val_loss</td><td>█▆▆▅▃▃▂▂▂▂▁▁▁▁▁▁▁▁▁▁▁▁▁▁▁▁▁▁▁▁▁▁▁▁▁▁▁▁▁▁</td></tr></table><br/></div><div class=\"wandb-col\"><h3>Run summary:</h3><br/><table class=\"wandb\"><tr><td>batch/accuracy</td><td>0.99984</td></tr><tr><td>batch/batch_step</td><td>279995</td></tr><tr><td>batch/learning_rate</td><td>2e-05</td></tr><tr><td>batch/loss</td><td>0.00301</td></tr><tr><td>epoch/accuracy</td><td>0.99984</td></tr><tr><td>epoch/epoch</td><td>99</td></tr><tr><td>epoch/learning_rate</td><td>2e-05</td></tr><tr><td>epoch/loss</td><td>0.003</td></tr><tr><td>epoch/val_accuracy</td><td>0.99605</td></tr><tr><td>epoch/val_loss</td><td>0.02953</td></tr></table><br/></div></div>"
      ],
      "text/plain": [
       "<IPython.core.display.HTML object>"
      ]
     },
     "metadata": {},
     "output_type": "display_data"
    },
    {
     "data": {
      "text/html": [
       " View run <strong style=\"color:#cdcd00\">Trial_4</strong> at: <a href='https://wandb.ai/emmdaz-zzz/Global-House-Purchase-Decision-ANN-Trials-4/runs/515acvh8' target=\"_blank\">https://wandb.ai/emmdaz-zzz/Global-House-Purchase-Decision-ANN-Trials-4/runs/515acvh8</a><br> View project at: <a href='https://wandb.ai/emmdaz-zzz/Global-House-Purchase-Decision-ANN-Trials-4' target=\"_blank\">https://wandb.ai/emmdaz-zzz/Global-House-Purchase-Decision-ANN-Trials-4</a><br>Synced 5 W&B file(s), 0 media file(s), 0 artifact file(s) and 0 other file(s)"
      ],
      "text/plain": [
       "<IPython.core.display.HTML object>"
      ]
     },
     "metadata": {},
     "output_type": "display_data"
    },
    {
     "data": {
      "text/html": [
       "Find logs at: <code>./wandb/run-20251014_173025-515acvh8/logs</code>"
      ],
      "text/plain": [
       "<IPython.core.display.HTML object>"
      ]
     },
     "metadata": {},
     "output_type": "display_data"
    },
    {
     "name": "stderr",
     "output_type": "stream",
     "text": [
      "[I 2025-10-14 17:37:08,115] Trial 4 finished with value: 0.017753650317899883 and parameters: {'Layer_1_units': 123, 'Activation_1': 'relu', 'n_layers': 7, 'Regularizer': 'L2', 'regularizer_value': 5.759184696364373e-06, 'regularizer_value_2': 1.3219045279281196e-05, 'Layer_2_units': 51, 'Activation_2': 'relu', 'Dropout_L2': 'n', 'Dropout_valueL2': 0.3896964903157684, 'Layer_3_units': 85, 'Activation_3': 'relu', 'Dropout_L3': 'n', 'Dropout_valueL3': 0.35291752788458186, 'Layer_4_units': 77, 'Activation_4': 'relu', 'Dropout_L4': 'n', 'Dropout_valueL4': 0.3865082318134975, 'Layer_5_units': 69, 'Activation_5': 'relu', 'Dropout_L5': 'y', 'Dropout_valueL5': 0.4106089191666207, 'Layer_6_units': 123, 'Activation_6': 'relu', 'Dropout_L6': 'y', 'Dropout_valueL6': 0.34215851440565803, 'Layer_7_units': 34, 'Activation_7': 'sigmoid', 'Dropout_L7': 'y', 'Dropout_valueL7': 0.4394130690575833, 'Layer_8_units': 50, 'Activation_8': 'sigmoid', 'Dropout_L8': 'y', 'Dropout_valueL8': 0.2963965448678125, 'learning_rate': 1.735916894884552e-05, 'optimizer': 'adam', 'batch_size': 50}. Best is trial 2 with value: 0.003312203101813793.\n"
     ]
    },
    {
     "data": {
      "text/html": [],
      "text/plain": [
       "<IPython.core.display.HTML object>"
      ]
     },
     "metadata": {},
     "output_type": "display_data"
    },
    {
     "data": {
      "text/html": [
       "Tracking run with wandb version 0.22.0"
      ],
      "text/plain": [
       "<IPython.core.display.HTML object>"
      ]
     },
     "metadata": {},
     "output_type": "display_data"
    },
    {
     "data": {
      "text/html": [
       "Run data is saved locally in <code>/tf/Global-House-Purchase-Decision-ANN/wandb/run-20251014_173708-dp4uhyxs</code>"
      ],
      "text/plain": [
       "<IPython.core.display.HTML object>"
      ]
     },
     "metadata": {},
     "output_type": "display_data"
    },
    {
     "data": {
      "text/html": [
       "Syncing run <strong><a href='https://wandb.ai/emmdaz-zzz/Global-House-Purchase-Decision-ANN-Trials-4/runs/dp4uhyxs' target=\"_blank\">Trial_5</a></strong> to <a href='https://wandb.ai/emmdaz-zzz/Global-House-Purchase-Decision-ANN-Trials-4' target=\"_blank\">Weights & Biases</a> (<a href='https://wandb.me/developer-guide' target=\"_blank\">docs</a>)<br>"
      ],
      "text/plain": [
       "<IPython.core.display.HTML object>"
      ]
     },
     "metadata": {},
     "output_type": "display_data"
    },
    {
     "data": {
      "text/html": [
       " View project at <a href='https://wandb.ai/emmdaz-zzz/Global-House-Purchase-Decision-ANN-Trials-4' target=\"_blank\">https://wandb.ai/emmdaz-zzz/Global-House-Purchase-Decision-ANN-Trials-4</a>"
      ],
      "text/plain": [
       "<IPython.core.display.HTML object>"
      ]
     },
     "metadata": {},
     "output_type": "display_data"
    },
    {
     "data": {
      "text/html": [
       " View run at <a href='https://wandb.ai/emmdaz-zzz/Global-House-Purchase-Decision-ANN-Trials-4/runs/dp4uhyxs' target=\"_blank\">https://wandb.ai/emmdaz-zzz/Global-House-Purchase-Decision-ANN-Trials-4/runs/dp4uhyxs</a>"
      ],
      "text/plain": [
       "<IPython.core.display.HTML object>"
      ]
     },
     "metadata": {},
     "output_type": "display_data"
    },
    {
     "data": {
      "text/html": [],
      "text/plain": [
       "<IPython.core.display.HTML object>"
      ]
     },
     "metadata": {},
     "output_type": "display_data"
    },
    {
     "data": {
      "text/html": [
       "<br>    <style><br>        .wandb-row {<br>            display: flex;<br>            flex-direction: row;<br>            flex-wrap: wrap;<br>            justify-content: flex-start;<br>            width: 100%;<br>        }<br>        .wandb-col {<br>            display: flex;<br>            flex-direction: column;<br>            flex-basis: 100%;<br>            flex: 1;<br>            padding: 10px;<br>        }<br>    </style><br><div class=\"wandb-row\"><div class=\"wandb-col\"><h3>Run history:</h3><br/><table class=\"wandb\"><tr><td>batch/accuracy</td><td>▁▃▇▇▇▇▇▇▇▇▇▇▇▇▇▇▇▇▇▇▇▇▇▇▇▇▇▇▇███████████</td></tr><tr><td>batch/batch_step</td><td>▁▁▂▂▂▂▂▂▂▂▃▃▃▃▃▄▄▄▄▄▄▄▅▅▅▅▅▆▆▆▆▆▆▇▇▇▇███</td></tr><tr><td>batch/learning_rate</td><td>▁▁▁▁▁▁▁▁▁▁▁▁▁▁▁▁▁▁▁▁▁▁▁▁▁▁▁▁▁▁▁▁▁▁▁▁▁▁▁▁</td></tr><tr><td>batch/loss</td><td>█▆▆▃▃▂▂▂▂▂▂▂▂▂▂▂▂▂▂▂▂▁▁▁▁▁▁▁▁▁▁▁▁▁▁▂▁▁▁▁</td></tr><tr><td>epoch/accuracy</td><td>▁▄▄▅▇▇▇▇▇▇▇▇▇▇▇▇▇▇▇▇▇▇▇▇▇███████████████</td></tr><tr><td>epoch/epoch</td><td>▁▁▁▁▁▂▂▂▂▂▂▃▃▃▃▄▄▄▄▄▅▅▅▅▅▅▅▆▆▆▇▇▇▇▇▇▇▇██</td></tr><tr><td>epoch/learning_rate</td><td>▁▁▁▁▁▁▁▁▁▁▁▁▁▁▁▁▁▁▁▁▁▁▁▁▁▁▁▁▁▁▁▁▁▁▁▁▁▁▁▁</td></tr><tr><td>epoch/loss</td><td>█▇▃▂▂▂▂▂▂▂▂▂▂▂▂▂▂▂▂▂▂▂▂▂▁▁▁▁▁▁▁▁▁▁▁▁▁▁▁▁</td></tr><tr><td>epoch/val_accuracy</td><td>▁▆▆▆▆▆▆▆▆▆▆▆▆▆▆▆▆▆▆▇▇▇▇▇▇▇▇▇████████████</td></tr><tr><td>epoch/val_loss</td><td>█▇▆▅▄▃▃▂▂▂▂▂▂▂▂▂▂▂▂▂▂▂▂▂▂▂▂▂▂▁▁▁▁▁▁▁▁▁▁▁</td></tr></table><br/></div><div class=\"wandb-col\"><h3>Run summary:</h3><br/><table class=\"wandb\"><tr><td>batch/accuracy</td><td>0.98568</td></tr><tr><td>batch/batch_step</td><td>139995</td></tr><tr><td>batch/learning_rate</td><td>2e-05</td></tr><tr><td>batch/loss</td><td>0.05384</td></tr><tr><td>epoch/accuracy</td><td>0.98569</td></tr><tr><td>epoch/epoch</td><td>99</td></tr><tr><td>epoch/learning_rate</td><td>2e-05</td></tr><tr><td>epoch/loss</td><td>0.05381</td></tr><tr><td>epoch/val_accuracy</td><td>0.9846</td></tr><tr><td>epoch/val_loss</td><td>0.05478</td></tr></table><br/></div></div>"
      ],
      "text/plain": [
       "<IPython.core.display.HTML object>"
      ]
     },
     "metadata": {},
     "output_type": "display_data"
    },
    {
     "data": {
      "text/html": [
       " View run <strong style=\"color:#cdcd00\">Trial_5</strong> at: <a href='https://wandb.ai/emmdaz-zzz/Global-House-Purchase-Decision-ANN-Trials-4/runs/dp4uhyxs' target=\"_blank\">https://wandb.ai/emmdaz-zzz/Global-House-Purchase-Decision-ANN-Trials-4/runs/dp4uhyxs</a><br> View project at: <a href='https://wandb.ai/emmdaz-zzz/Global-House-Purchase-Decision-ANN-Trials-4' target=\"_blank\">https://wandb.ai/emmdaz-zzz/Global-House-Purchase-Decision-ANN-Trials-4</a><br>Synced 5 W&B file(s), 0 media file(s), 0 artifact file(s) and 0 other file(s)"
      ],
      "text/plain": [
       "<IPython.core.display.HTML object>"
      ]
     },
     "metadata": {},
     "output_type": "display_data"
    },
    {
     "data": {
      "text/html": [
       "Find logs at: <code>./wandb/run-20251014_173708-dp4uhyxs/logs</code>"
      ],
      "text/plain": [
       "<IPython.core.display.HTML object>"
      ]
     },
     "metadata": {},
     "output_type": "display_data"
    },
    {
     "name": "stderr",
     "output_type": "stream",
     "text": [
      "[I 2025-10-14 17:39:07,929] Trial 5 finished with value: 0.054679309204220775 and parameters: {'Layer_1_units': 33, 'Activation_1': 'sigmoid', 'n_layers': 1, 'Regularizer': 'L1', 'regularizer_value': 2.9754779249769133e-05, 'regularizer_value_2': 1.975969548885646e-06, 'Layer_2_units': 64, 'Activation_2': 'relu', 'Dropout_L2': 'n', 'Dropout_valueL2': 0.3193433429462137, 'learning_rate': 2.357412797743835e-05, 'optimizer': 'rmsprop', 'batch_size': 100}. Best is trial 2 with value: 0.003312203101813793.\n"
     ]
    },
    {
     "data": {
      "text/html": [],
      "text/plain": [
       "<IPython.core.display.HTML object>"
      ]
     },
     "metadata": {},
     "output_type": "display_data"
    },
    {
     "data": {
      "text/html": [
       "Tracking run with wandb version 0.22.0"
      ],
      "text/plain": [
       "<IPython.core.display.HTML object>"
      ]
     },
     "metadata": {},
     "output_type": "display_data"
    },
    {
     "data": {
      "text/html": [
       "Run data is saved locally in <code>/tf/Global-House-Purchase-Decision-ANN/wandb/run-20251014_173907-alpodkcw</code>"
      ],
      "text/plain": [
       "<IPython.core.display.HTML object>"
      ]
     },
     "metadata": {},
     "output_type": "display_data"
    },
    {
     "data": {
      "text/html": [
       "Syncing run <strong><a href='https://wandb.ai/emmdaz-zzz/Global-House-Purchase-Decision-ANN-Trials-4/runs/alpodkcw' target=\"_blank\">Trial_6</a></strong> to <a href='https://wandb.ai/emmdaz-zzz/Global-House-Purchase-Decision-ANN-Trials-4' target=\"_blank\">Weights & Biases</a> (<a href='https://wandb.me/developer-guide' target=\"_blank\">docs</a>)<br>"
      ],
      "text/plain": [
       "<IPython.core.display.HTML object>"
      ]
     },
     "metadata": {},
     "output_type": "display_data"
    },
    {
     "data": {
      "text/html": [
       " View project at <a href='https://wandb.ai/emmdaz-zzz/Global-House-Purchase-Decision-ANN-Trials-4' target=\"_blank\">https://wandb.ai/emmdaz-zzz/Global-House-Purchase-Decision-ANN-Trials-4</a>"
      ],
      "text/plain": [
       "<IPython.core.display.HTML object>"
      ]
     },
     "metadata": {},
     "output_type": "display_data"
    },
    {
     "data": {
      "text/html": [
       " View run at <a href='https://wandb.ai/emmdaz-zzz/Global-House-Purchase-Decision-ANN-Trials-4/runs/alpodkcw' target=\"_blank\">https://wandb.ai/emmdaz-zzz/Global-House-Purchase-Decision-ANN-Trials-4/runs/alpodkcw</a>"
      ],
      "text/plain": [
       "<IPython.core.display.HTML object>"
      ]
     },
     "metadata": {},
     "output_type": "display_data"
    },
    {
     "data": {
      "text/html": [],
      "text/plain": [
       "<IPython.core.display.HTML object>"
      ]
     },
     "metadata": {},
     "output_type": "display_data"
    },
    {
     "data": {
      "text/html": [
       "<br>    <style><br>        .wandb-row {<br>            display: flex;<br>            flex-direction: row;<br>            flex-wrap: wrap;<br>            justify-content: flex-start;<br>            width: 100%;<br>        }<br>        .wandb-col {<br>            display: flex;<br>            flex-direction: column;<br>            flex-basis: 100%;<br>            flex: 1;<br>            padding: 10px;<br>        }<br>    </style><br><div class=\"wandb-row\"><div class=\"wandb-col\"><h3>Run history:</h3><br/><table class=\"wandb\"><tr><td>batch/accuracy</td><td>▁▁▁▁▁▂▂▂▂▂▂▂▂▄▄▆▆▆▇▇▇▇▇▇▇▇▇▇▇███████████</td></tr><tr><td>batch/batch_step</td><td>▁▁▁▁▁▁▂▂▂▃▃▃▃▄▄▄▄▄▄▄▅▅▅▅▅▆▆▆▆▆▇▇▇▇▇▇▇▇▇█</td></tr><tr><td>batch/learning_rate</td><td>▁▁▁▁▁▁▁▁▁▁▁▁▁▁▁▁▁▁▁▁▁▁▁▁▁▁▁▁▁▁▁▁▁▁▁▁▁▁▁▁</td></tr><tr><td>batch/loss</td><td>████▇▇▆▅▅▄▄▃▃▃▃▂▂▂▂▂▂▂▂▂▂▂▂▄▁▁▁▁▁▁▁▁▁▁▁▁</td></tr><tr><td>epoch/accuracy</td><td>▁▁▁▁▁▁▁▂▂▂▅▆▇▇▇▇▇▇▇▇████████████████████</td></tr><tr><td>epoch/epoch</td><td>▁▁▁▁▂▂▂▂▃▃▃▃▃▄▄▄▄▅▅▅▅▅▅▆▆▆▆▆▆▆▇▇▇▇▇▇████</td></tr><tr><td>epoch/learning_rate</td><td>▁▁▁▁▁▁▁▁▁▁▁▁▁▁▁▁▁▁▁▁▁▁▁▁▁▁▁▁▁▁▁▁▁▁▁▁▁▁▁▁</td></tr><tr><td>epoch/loss</td><td>█▇▆▆▆▆▆▅▄▄▃▂▂▂▂▂▂▂▁▁▁▁▁▁▁▁▁▁▁▁▁▁▁▁▁▁▁▁▁▁</td></tr><tr><td>epoch/val_accuracy</td><td>▁▁▁▁▁▁▁▁▁▂▂▃▄▅▆▇▇▇▇▇████████████████████</td></tr><tr><td>epoch/val_loss</td><td>█████▇▇▇▆▆▄▄▃▃▃▃▂▂▂▂▂▂▁▁▁▁▁▁▁▁▁▁▁▁▁▁▁▁▁▁</td></tr></table><br/></div><div class=\"wandb-col\"><h3>Run summary:</h3><br/><table class=\"wandb\"><tr><td>batch/accuracy</td><td>0.94093</td></tr><tr><td>batch/batch_step</td><td>699995</td></tr><tr><td>batch/learning_rate</td><td>0.00016</td></tr><tr><td>batch/loss</td><td>0.14025</td></tr><tr><td>epoch/accuracy</td><td>0.94093</td></tr><tr><td>epoch/epoch</td><td>99</td></tr><tr><td>epoch/learning_rate</td><td>0.00016</td></tr><tr><td>epoch/loss</td><td>0.14024</td></tr><tr><td>epoch/val_accuracy</td><td>0.9472</td></tr><tr><td>epoch/val_loss</td><td>0.12861</td></tr></table><br/></div></div>"
      ],
      "text/plain": [
       "<IPython.core.display.HTML object>"
      ]
     },
     "metadata": {},
     "output_type": "display_data"
    },
    {
     "data": {
      "text/html": [
       " View run <strong style=\"color:#cdcd00\">Trial_6</strong> at: <a href='https://wandb.ai/emmdaz-zzz/Global-House-Purchase-Decision-ANN-Trials-4/runs/alpodkcw' target=\"_blank\">https://wandb.ai/emmdaz-zzz/Global-House-Purchase-Decision-ANN-Trials-4/runs/alpodkcw</a><br> View project at: <a href='https://wandb.ai/emmdaz-zzz/Global-House-Purchase-Decision-ANN-Trials-4' target=\"_blank\">https://wandb.ai/emmdaz-zzz/Global-House-Purchase-Decision-ANN-Trials-4</a><br>Synced 5 W&B file(s), 0 media file(s), 0 artifact file(s) and 0 other file(s)"
      ],
      "text/plain": [
       "<IPython.core.display.HTML object>"
      ]
     },
     "metadata": {},
     "output_type": "display_data"
    },
    {
     "data": {
      "text/html": [
       "Find logs at: <code>./wandb/run-20251014_173907-alpodkcw/logs</code>"
      ],
      "text/plain": [
       "<IPython.core.display.HTML object>"
      ]
     },
     "metadata": {},
     "output_type": "display_data"
    },
    {
     "name": "stderr",
     "output_type": "stream",
     "text": [
      "[I 2025-10-14 17:47:49,566] Trial 6 finished with value: 0.12977600395679473 and parameters: {'Layer_1_units': 66, 'Activation_1': 'relu', 'n_layers': 1, 'Regularizer': 'L1', 'regularizer_value': 3.8026268294863723e-06, 'regularizer_value_2': 2.4157532547376787e-06, 'Layer_2_units': 36, 'Activation_2': 'sigmoid', 'Dropout_L2': 'y', 'Dropout_valueL2': 0.2590547481330996, 'learning_rate': 0.00015584675915215806, 'optimizer': 'sgd', 'batch_size': 20}. Best is trial 2 with value: 0.003312203101813793.\n"
     ]
    },
    {
     "data": {
      "text/html": [],
      "text/plain": [
       "<IPython.core.display.HTML object>"
      ]
     },
     "metadata": {},
     "output_type": "display_data"
    },
    {
     "data": {
      "text/html": [
       "Tracking run with wandb version 0.22.0"
      ],
      "text/plain": [
       "<IPython.core.display.HTML object>"
      ]
     },
     "metadata": {},
     "output_type": "display_data"
    },
    {
     "data": {
      "text/html": [
       "Run data is saved locally in <code>/tf/Global-House-Purchase-Decision-ANN/wandb/run-20251014_174749-t76m3p1d</code>"
      ],
      "text/plain": [
       "<IPython.core.display.HTML object>"
      ]
     },
     "metadata": {},
     "output_type": "display_data"
    },
    {
     "data": {
      "text/html": [
       "Syncing run <strong><a href='https://wandb.ai/emmdaz-zzz/Global-House-Purchase-Decision-ANN-Trials-4/runs/t76m3p1d' target=\"_blank\">Trial_7</a></strong> to <a href='https://wandb.ai/emmdaz-zzz/Global-House-Purchase-Decision-ANN-Trials-4' target=\"_blank\">Weights & Biases</a> (<a href='https://wandb.me/developer-guide' target=\"_blank\">docs</a>)<br>"
      ],
      "text/plain": [
       "<IPython.core.display.HTML object>"
      ]
     },
     "metadata": {},
     "output_type": "display_data"
    },
    {
     "data": {
      "text/html": [
       " View project at <a href='https://wandb.ai/emmdaz-zzz/Global-House-Purchase-Decision-ANN-Trials-4' target=\"_blank\">https://wandb.ai/emmdaz-zzz/Global-House-Purchase-Decision-ANN-Trials-4</a>"
      ],
      "text/plain": [
       "<IPython.core.display.HTML object>"
      ]
     },
     "metadata": {},
     "output_type": "display_data"
    },
    {
     "data": {
      "text/html": [
       " View run at <a href='https://wandb.ai/emmdaz-zzz/Global-House-Purchase-Decision-ANN-Trials-4/runs/t76m3p1d' target=\"_blank\">https://wandb.ai/emmdaz-zzz/Global-House-Purchase-Decision-ANN-Trials-4/runs/t76m3p1d</a>"
      ],
      "text/plain": [
       "<IPython.core.display.HTML object>"
      ]
     },
     "metadata": {},
     "output_type": "display_data"
    },
    {
     "data": {
      "text/html": [],
      "text/plain": [
       "<IPython.core.display.HTML object>"
      ]
     },
     "metadata": {},
     "output_type": "display_data"
    },
    {
     "data": {
      "text/html": [
       "<br>    <style><br>        .wandb-row {<br>            display: flex;<br>            flex-direction: row;<br>            flex-wrap: wrap;<br>            justify-content: flex-start;<br>            width: 100%;<br>        }<br>        .wandb-col {<br>            display: flex;<br>            flex-direction: column;<br>            flex-basis: 100%;<br>            flex: 1;<br>            padding: 10px;<br>        }<br>    </style><br><div class=\"wandb-row\"><div class=\"wandb-col\"><h3>Run history:</h3><br/><table class=\"wandb\"><tr><td>batch/accuracy</td><td>▁▁▆▆▆▇▇▇▇▇▇▇▇▇▇▇▇▇▇▇▆▇▇▇▇▇▇▇████████████</td></tr><tr><td>batch/batch_step</td><td>▁▁▁▁▁▁▂▂▂▂▂▃▃▃▃▃▃▃▃▄▄▄▄▄▄▅▅▅▅▅▅▆▆▆▇▇▇▇██</td></tr><tr><td>batch/learning_rate</td><td>▁▁▁▁▁▁▁▁▁▁▁▁▁▁▁▁▁▁▁▁▁▁▁▁▁▁▁▁▁▁▁▁▁▁▁▁▁▁▁▁</td></tr><tr><td>batch/loss</td><td>█████▃▂▂▂▂▂▂▂▂▂▂▂▂▂▂▂▂▂▂▁▁▁▁▁▁▁▁▁▁▁▁▁▁▁▁</td></tr><tr><td>epoch/accuracy</td><td>▁▁▃▆▆▆▇▇▇▇▇▇▇▇▇▇▇▇▇▇▇▇▇▇▇▇▇▇████████████</td></tr><tr><td>epoch/epoch</td><td>▁▁▁▁▂▂▂▂▂▂▃▃▃▃▃▃▃▄▄▄▄▅▅▅▅▅▅▅▆▆▆▆▆▇▇▇▇▇██</td></tr><tr><td>epoch/learning_rate</td><td>▁▁▁▁▁▁▁▁▁▁▁▁▁▁▁▁▁▁▁▁▁▁▁▁▁▁▁▁▁▁▁▁▁▁▁▁▁▁▁▁</td></tr><tr><td>epoch/loss</td><td>█▅▃▂▂▂▂▂▂▂▂▂▂▂▂▂▂▂▂▂▂▂▂▂▂▂▂▁▁▁▁▁▁▁▁▁▁▁▁▁</td></tr><tr><td>epoch/val_accuracy</td><td>▁▂▂▂▂▂▂▂▂▂▂▂▂▂▂▂▂▂▂▃▄▄▄▄▅▅▆▆▆▇▇▇▇▇██████</td></tr><tr><td>epoch/val_loss</td><td>█▄▃▃▂▂▂▂▂▂▂▂▂▂▂▂▂▂▂▂▂▂▂▂▁▁▁▁▁▁▁▁▁▁▁▁▁▁▁▁</td></tr></table><br/></div><div class=\"wandb-col\"><h3>Run summary:</h3><br/><table class=\"wandb\"><tr><td>batch/accuracy</td><td>0.98917</td></tr><tr><td>batch/batch_step</td><td>349995</td></tr><tr><td>batch/learning_rate</td><td>1e-05</td></tr><tr><td>batch/loss</td><td>0.05255</td></tr><tr><td>epoch/accuracy</td><td>0.98917</td></tr><tr><td>epoch/epoch</td><td>99</td></tr><tr><td>epoch/learning_rate</td><td>1e-05</td></tr><tr><td>epoch/loss</td><td>0.05254</td></tr><tr><td>epoch/val_accuracy</td><td>0.9888</td></tr><tr><td>epoch/val_loss</td><td>0.05219</td></tr></table><br/></div></div>"
      ],
      "text/plain": [
       "<IPython.core.display.HTML object>"
      ]
     },
     "metadata": {},
     "output_type": "display_data"
    },
    {
     "data": {
      "text/html": [
       " View run <strong style=\"color:#cdcd00\">Trial_7</strong> at: <a href='https://wandb.ai/emmdaz-zzz/Global-House-Purchase-Decision-ANN-Trials-4/runs/t76m3p1d' target=\"_blank\">https://wandb.ai/emmdaz-zzz/Global-House-Purchase-Decision-ANN-Trials-4/runs/t76m3p1d</a><br> View project at: <a href='https://wandb.ai/emmdaz-zzz/Global-House-Purchase-Decision-ANN-Trials-4' target=\"_blank\">https://wandb.ai/emmdaz-zzz/Global-House-Purchase-Decision-ANN-Trials-4</a><br>Synced 5 W&B file(s), 0 media file(s), 0 artifact file(s) and 0 other file(s)"
      ],
      "text/plain": [
       "<IPython.core.display.HTML object>"
      ]
     },
     "metadata": {},
     "output_type": "display_data"
    },
    {
     "data": {
      "text/html": [
       "Find logs at: <code>./wandb/run-20251014_174749-t76m3p1d/logs</code>"
      ],
      "text/plain": [
       "<IPython.core.display.HTML object>"
      ]
     },
     "metadata": {},
     "output_type": "display_data"
    },
    {
     "name": "stderr",
     "output_type": "stream",
     "text": [
      "[I 2025-10-14 17:55:06,610] Trial 7 finished with value: 0.05222509205341339 and parameters: {'Layer_1_units': 94, 'Activation_1': 'sigmoid', 'n_layers': 5, 'Regularizer': 'L1', 'regularizer_value': 8.930521339571017e-06, 'regularizer_value_2': 3.2721963203889342e-06, 'Layer_2_units': 80, 'Activation_2': 'sigmoid', 'Dropout_L2': 'n', 'Dropout_valueL2': 0.48447122501093, 'Layer_3_units': 56, 'Activation_3': 'relu', 'Dropout_L3': 'n', 'Dropout_valueL3': 0.40252770719172504, 'Layer_4_units': 79, 'Activation_4': 'sigmoid', 'Dropout_L4': 'n', 'Dropout_valueL4': 0.4194487679952541, 'Layer_5_units': 77, 'Activation_5': 'relu', 'Dropout_L5': 'y', 'Dropout_valueL5': 0.44875099648282624, 'Layer_6_units': 117, 'Activation_6': 'sigmoid', 'Dropout_L6': 'n', 'Dropout_valueL6': 0.3028130902023567, 'learning_rate': 1.236385978627284e-05, 'optimizer': 'adam', 'batch_size': 40}. Best is trial 2 with value: 0.003312203101813793.\n"
     ]
    },
    {
     "data": {
      "text/html": [],
      "text/plain": [
       "<IPython.core.display.HTML object>"
      ]
     },
     "metadata": {},
     "output_type": "display_data"
    },
    {
     "data": {
      "text/html": [
       "Tracking run with wandb version 0.22.0"
      ],
      "text/plain": [
       "<IPython.core.display.HTML object>"
      ]
     },
     "metadata": {},
     "output_type": "display_data"
    },
    {
     "data": {
      "text/html": [
       "Run data is saved locally in <code>/tf/Global-House-Purchase-Decision-ANN/wandb/run-20251014_175506-74zy13dv</code>"
      ],
      "text/plain": [
       "<IPython.core.display.HTML object>"
      ]
     },
     "metadata": {},
     "output_type": "display_data"
    },
    {
     "data": {
      "text/html": [
       "Syncing run <strong><a href='https://wandb.ai/emmdaz-zzz/Global-House-Purchase-Decision-ANN-Trials-4/runs/74zy13dv' target=\"_blank\">Trial_8</a></strong> to <a href='https://wandb.ai/emmdaz-zzz/Global-House-Purchase-Decision-ANN-Trials-4' target=\"_blank\">Weights & Biases</a> (<a href='https://wandb.me/developer-guide' target=\"_blank\">docs</a>)<br>"
      ],
      "text/plain": [
       "<IPython.core.display.HTML object>"
      ]
     },
     "metadata": {},
     "output_type": "display_data"
    },
    {
     "data": {
      "text/html": [
       " View project at <a href='https://wandb.ai/emmdaz-zzz/Global-House-Purchase-Decision-ANN-Trials-4' target=\"_blank\">https://wandb.ai/emmdaz-zzz/Global-House-Purchase-Decision-ANN-Trials-4</a>"
      ],
      "text/plain": [
       "<IPython.core.display.HTML object>"
      ]
     },
     "metadata": {},
     "output_type": "display_data"
    },
    {
     "data": {
      "text/html": [
       " View run at <a href='https://wandb.ai/emmdaz-zzz/Global-House-Purchase-Decision-ANN-Trials-4/runs/74zy13dv' target=\"_blank\">https://wandb.ai/emmdaz-zzz/Global-House-Purchase-Decision-ANN-Trials-4/runs/74zy13dv</a>"
      ],
      "text/plain": [
       "<IPython.core.display.HTML object>"
      ]
     },
     "metadata": {},
     "output_type": "display_data"
    },
    {
     "data": {
      "text/html": [],
      "text/plain": [
       "<IPython.core.display.HTML object>"
      ]
     },
     "metadata": {},
     "output_type": "display_data"
    },
    {
     "data": {
      "text/html": [
       "<br>    <style><br>        .wandb-row {<br>            display: flex;<br>            flex-direction: row;<br>            flex-wrap: wrap;<br>            justify-content: flex-start;<br>            width: 100%;<br>        }<br>        .wandb-col {<br>            display: flex;<br>            flex-direction: column;<br>            flex-basis: 100%;<br>            flex: 1;<br>            padding: 10px;<br>        }<br>    </style><br><div class=\"wandb-row\"><div class=\"wandb-col\"><h3>Run history:</h3><br/><table class=\"wandb\"><tr><td>batch/accuracy</td><td>▁▁▁▁▁▁▁▁▁▁▁▁▁▁▁▁▁▁▁▁▁▁▁▁▁▁▁▁▁▁▇▇▇▇▇▇█▇██</td></tr><tr><td>batch/batch_step</td><td>▁▁▁▁▁▂▂▂▂▃▃▃▃▃▃▄▄▄▄▅▅▅▅▅▅▆▆▆▆▆▇▇▇▇▇█████</td></tr><tr><td>batch/learning_rate</td><td>▁▁▁▁▁▁▁▁▁▁▁▁▁▁▁▁▁▁▁▁▁▁▁▁▁▁▁▁▁▁▁▁▁▁▁▁▁▁▁▁</td></tr><tr><td>batch/loss</td><td>█████████████████████████████▇▂▂▂▂▂▁▁▁▁▁</td></tr><tr><td>epoch/accuracy</td><td>▁▁▁▁▁▁▁▁▁▁▁▁▁▁▁▁▁▁▁▁▁▁▁▁▁▁▁▁▁▅▇▇▇▇▇█████</td></tr><tr><td>epoch/epoch</td><td>▁▁▁▁▂▂▂▂▂▂▃▃▃▃▃▃▄▄▄▄▄▄▅▅▅▅▆▆▆▆▆▇▇▇▇▇▇███</td></tr><tr><td>epoch/learning_rate</td><td>▁▁▁▁▁▁▁▁▁▁▁▁▁▁▁▁▁▁▁▁▁▁▁▁▁▁▁▁▁▁▁▁▁▁▁▁▁▁▁▁</td></tr><tr><td>epoch/loss</td><td>███████████████████████████▇▄▂▂▂▂▂▁▁▁▁▁▁</td></tr><tr><td>epoch/val_accuracy</td><td>▁▁▁▁▁▁▁▁▁▁▁▁▁▁▁▁▁▁▁▁▁▁▁▁▁▇▇▇▇▇▇▇▇▇▇█████</td></tr><tr><td>epoch/val_loss</td><td>████████████████████████████████▂▂▁▁▁▁▁▁</td></tr></table><br/></div><div class=\"wandb-col\"><h3>Run summary:</h3><br/><table class=\"wandb\"><tr><td>batch/accuracy</td><td>0.95447</td></tr><tr><td>batch/batch_step</td><td>349995</td></tr><tr><td>batch/learning_rate</td><td>0.00517</td></tr><tr><td>batch/loss</td><td>0.11851</td></tr><tr><td>epoch/accuracy</td><td>0.9545</td></tr><tr><td>epoch/epoch</td><td>99</td></tr><tr><td>epoch/learning_rate</td><td>0.00517</td></tr><tr><td>epoch/loss</td><td>0.11847</td></tr><tr><td>epoch/val_accuracy</td><td>0.96085</td></tr><tr><td>epoch/val_loss</td><td>0.10033</td></tr></table><br/></div></div>"
      ],
      "text/plain": [
       "<IPython.core.display.HTML object>"
      ]
     },
     "metadata": {},
     "output_type": "display_data"
    },
    {
     "data": {
      "text/html": [
       " View run <strong style=\"color:#cdcd00\">Trial_8</strong> at: <a href='https://wandb.ai/emmdaz-zzz/Global-House-Purchase-Decision-ANN-Trials-4/runs/74zy13dv' target=\"_blank\">https://wandb.ai/emmdaz-zzz/Global-House-Purchase-Decision-ANN-Trials-4/runs/74zy13dv</a><br> View project at: <a href='https://wandb.ai/emmdaz-zzz/Global-House-Purchase-Decision-ANN-Trials-4' target=\"_blank\">https://wandb.ai/emmdaz-zzz/Global-House-Purchase-Decision-ANN-Trials-4</a><br>Synced 5 W&B file(s), 0 media file(s), 0 artifact file(s) and 0 other file(s)"
      ],
      "text/plain": [
       "<IPython.core.display.HTML object>"
      ]
     },
     "metadata": {},
     "output_type": "display_data"
    },
    {
     "data": {
      "text/html": [
       "Find logs at: <code>./wandb/run-20251014_175506-74zy13dv/logs</code>"
      ],
      "text/plain": [
       "<IPython.core.display.HTML object>"
      ]
     },
     "metadata": {},
     "output_type": "display_data"
    },
    {
     "name": "stderr",
     "output_type": "stream",
     "text": [
      "[I 2025-10-14 18:01:17,403] Trial 8 finished with value: 0.10214177519083023 and parameters: {'Layer_1_units': 92, 'Activation_1': 'sigmoid', 'n_layers': 5, 'Regularizer': 'L2', 'regularizer_value': 3.391896153224861e-05, 'regularizer_value_2': 1.580044195610847e-06, 'Layer_2_units': 39, 'Activation_2': 'sigmoid', 'Dropout_L2': 'y', 'Dropout_valueL2': 0.2882627572336439, 'Layer_3_units': 118, 'Activation_3': 'relu', 'Dropout_L3': 'y', 'Dropout_valueL3': 0.4506673083685583, 'Layer_4_units': 61, 'Activation_4': 'sigmoid', 'Dropout_L4': 'n', 'Dropout_valueL4': 0.27211987245359187, 'Layer_5_units': 120, 'Activation_5': 'sigmoid', 'Dropout_L5': 'n', 'Dropout_valueL5': 0.4622261162832694, 'Layer_6_units': 73, 'Activation_6': 'relu', 'Dropout_L6': 'y', 'Dropout_valueL6': 0.2391294880155352, 'learning_rate': 0.00516686536639447, 'optimizer': 'sgd', 'batch_size': 40}. Best is trial 2 with value: 0.003312203101813793.\n"
     ]
    },
    {
     "data": {
      "text/html": [],
      "text/plain": [
       "<IPython.core.display.HTML object>"
      ]
     },
     "metadata": {},
     "output_type": "display_data"
    },
    {
     "data": {
      "text/html": [
       "Tracking run with wandb version 0.22.0"
      ],
      "text/plain": [
       "<IPython.core.display.HTML object>"
      ]
     },
     "metadata": {},
     "output_type": "display_data"
    },
    {
     "data": {
      "text/html": [
       "Run data is saved locally in <code>/tf/Global-House-Purchase-Decision-ANN/wandb/run-20251014_180117-uv699itw</code>"
      ],
      "text/plain": [
       "<IPython.core.display.HTML object>"
      ]
     },
     "metadata": {},
     "output_type": "display_data"
    },
    {
     "data": {
      "text/html": [
       "Syncing run <strong><a href='https://wandb.ai/emmdaz-zzz/Global-House-Purchase-Decision-ANN-Trials-4/runs/uv699itw' target=\"_blank\">Trial_9</a></strong> to <a href='https://wandb.ai/emmdaz-zzz/Global-House-Purchase-Decision-ANN-Trials-4' target=\"_blank\">Weights & Biases</a> (<a href='https://wandb.me/developer-guide' target=\"_blank\">docs</a>)<br>"
      ],
      "text/plain": [
       "<IPython.core.display.HTML object>"
      ]
     },
     "metadata": {},
     "output_type": "display_data"
    },
    {
     "data": {
      "text/html": [
       " View project at <a href='https://wandb.ai/emmdaz-zzz/Global-House-Purchase-Decision-ANN-Trials-4' target=\"_blank\">https://wandb.ai/emmdaz-zzz/Global-House-Purchase-Decision-ANN-Trials-4</a>"
      ],
      "text/plain": [
       "<IPython.core.display.HTML object>"
      ]
     },
     "metadata": {},
     "output_type": "display_data"
    },
    {
     "data": {
      "text/html": [
       " View run at <a href='https://wandb.ai/emmdaz-zzz/Global-House-Purchase-Decision-ANN-Trials-4/runs/uv699itw' target=\"_blank\">https://wandb.ai/emmdaz-zzz/Global-House-Purchase-Decision-ANN-Trials-4/runs/uv699itw</a>"
      ],
      "text/plain": [
       "<IPython.core.display.HTML object>"
      ]
     },
     "metadata": {},
     "output_type": "display_data"
    },
    {
     "data": {
      "text/html": [],
      "text/plain": [
       "<IPython.core.display.HTML object>"
      ]
     },
     "metadata": {},
     "output_type": "display_data"
    },
    {
     "data": {
      "text/html": [
       "<br>    <style><br>        .wandb-row {<br>            display: flex;<br>            flex-direction: row;<br>            flex-wrap: wrap;<br>            justify-content: flex-start;<br>            width: 100%;<br>        }<br>        .wandb-col {<br>            display: flex;<br>            flex-direction: column;<br>            flex-basis: 100%;<br>            flex: 1;<br>            padding: 10px;<br>        }<br>    </style><br><div class=\"wandb-row\"><div class=\"wandb-col\"><h3>Run history:</h3><br/><table class=\"wandb\"><tr><td>batch/accuracy</td><td>▄▅▅▁▃▆▅▄▄▄▄▄▄█▄▅▄▄▅▄▄▄▅▅▄▅▂▄▃▄▄▅▄▄▄▅▄▄▄▄</td></tr><tr><td>batch/batch_step</td><td>▁▁▁▁▁▂▂▃▃▃▃▃▃▃▃▄▄▄▄▄▅▆▆▆▆▆▆▆▆▆▇▇▇▇▇▇████</td></tr><tr><td>batch/learning_rate</td><td>▁▁▁▁▁▁▁▁▁▁▁▁▁▁▁▁▁▁▁▁▁▁▁▁▁▁▁▁▁▁▁▁▁▁▁▁▁▁▁▁</td></tr><tr><td>batch/loss</td><td>▇▆▅▆▇▆▆▅▆▆▆▆▆▆▄▁▅▆▆▅▆▆▆▅▆▇▅▆▆▆▆▇█▇▆▇▆▆▆▆</td></tr><tr><td>epoch/accuracy</td><td>▁███████████████████████████████████████</td></tr><tr><td>epoch/epoch</td><td>▁▁▁▁▁▂▂▂▂▂▂▂▃▃▃▃▃▃▃▄▄▄▄▄▅▅▅▅▆▆▆▆▆▆▆▇▇▇▇█</td></tr><tr><td>epoch/learning_rate</td><td>▁▁▁▁▁▁▁▁▁▁▁▁▁▁▁▁▁▁▁▁▁▁▁▁▁▁▁▁▁▁▁▁▁▁▁▁▁▁▁▁</td></tr><tr><td>epoch/loss</td><td>█▂▁▁▁▁▁▁▁▁▁▁▁▁▁▁▁▁▁▁▁▁▁▁▁▁▁▁▁▁▁▁▁▂▁▁▁▁▁▁</td></tr><tr><td>epoch/val_accuracy</td><td>▁▁▁▁▁▁▁▁▁▁▁▁▁▁▁▁▁▁▁▁▁▁▁▁▁▁▁▁▁▁▁▁▁▁▁▁▁▁▁▁</td></tr><tr><td>epoch/val_loss</td><td>█▂▂▁▂▁▃▁▁▁▁▁▁▁▂▁▁▁▁▁▁▂▁▁▁▁▁▁▁▁▁▁▁▁▁▁▁▂▁▁</td></tr></table><br/></div><div class=\"wandb-col\"><h3>Run summary:</h3><br/><table class=\"wandb\"><tr><td>batch/accuracy</td><td>0.76911</td></tr><tr><td>batch/batch_step</td><td>279995</td></tr><tr><td>batch/learning_rate</td><td>0.00619</td></tr><tr><td>batch/loss</td><td>0.54242</td></tr><tr><td>epoch/accuracy</td><td>0.76921</td></tr><tr><td>epoch/epoch</td><td>99</td></tr><tr><td>epoch/learning_rate</td><td>0.00619</td></tr><tr><td>epoch/loss</td><td>0.54231</td></tr><tr><td>epoch/val_accuracy</td><td>0.7689</td></tr><tr><td>epoch/val_loss</td><td>0.54256</td></tr></table><br/></div></div>"
      ],
      "text/plain": [
       "<IPython.core.display.HTML object>"
      ]
     },
     "metadata": {},
     "output_type": "display_data"
    },
    {
     "data": {
      "text/html": [
       " View run <strong style=\"color:#cdcd00\">Trial_9</strong> at: <a href='https://wandb.ai/emmdaz-zzz/Global-House-Purchase-Decision-ANN-Trials-4/runs/uv699itw' target=\"_blank\">https://wandb.ai/emmdaz-zzz/Global-House-Purchase-Decision-ANN-Trials-4/runs/uv699itw</a><br> View project at: <a href='https://wandb.ai/emmdaz-zzz/Global-House-Purchase-Decision-ANN-Trials-4' target=\"_blank\">https://wandb.ai/emmdaz-zzz/Global-House-Purchase-Decision-ANN-Trials-4</a><br>Synced 5 W&B file(s), 0 media file(s), 0 artifact file(s) and 0 other file(s)"
      ],
      "text/plain": [
       "<IPython.core.display.HTML object>"
      ]
     },
     "metadata": {},
     "output_type": "display_data"
    },
    {
     "data": {
      "text/html": [
       "Find logs at: <code>./wandb/run-20251014_180117-uv699itw/logs</code>"
      ],
      "text/plain": [
       "<IPython.core.display.HTML object>"
      ]
     },
     "metadata": {},
     "output_type": "display_data"
    },
    {
     "name": "stderr",
     "output_type": "stream",
     "text": [
      "[I 2025-10-14 18:08:49,092] Trial 9 finished with value: 0.542507427930832 and parameters: {'Layer_1_units': 77, 'Activation_1': 'sigmoid', 'n_layers': 9, 'Regularizer': 'L1L2', 'regularizer_value': 4.5237131659110725e-05, 'regularizer_value_2': 1.3591005247817848e-05, 'Layer_2_units': 115, 'Activation_2': 'sigmoid', 'Dropout_L2': 'n', 'Dropout_valueL2': 0.20404321053960506, 'Layer_3_units': 80, 'Activation_3': 'relu', 'Dropout_L3': 'n', 'Dropout_valueL3': 0.32265155152986386, 'Layer_4_units': 54, 'Activation_4': 'sigmoid', 'Dropout_L4': 'y', 'Dropout_valueL4': 0.3341321283351293, 'Layer_5_units': 55, 'Activation_5': 'relu', 'Dropout_L5': 'y', 'Dropout_valueL5': 0.24510430843357384, 'Layer_6_units': 95, 'Activation_6': 'sigmoid', 'Dropout_L6': 'n', 'Dropout_valueL6': 0.4864939234323555, 'Layer_7_units': 112, 'Activation_7': 'sigmoid', 'Dropout_L7': 'n', 'Dropout_valueL7': 0.4881123759801301, 'Layer_8_units': 62, 'Activation_8': 'sigmoid', 'Dropout_L8': 'y', 'Dropout_valueL8': 0.2569567374803864, 'Layer_9_units': 114, 'Activation_9': 'sigmoid', 'Dropout_L9': 'n', 'Dropout_valueL9': 0.33030933271845603, 'Layer_10_units': 41, 'Activation_10': 'relu', 'Dropout_L10': 'n', 'Dropout_valueL10': 0.340805168989823, 'learning_rate': 0.0061921166842300816, 'optimizer': 'adam', 'batch_size': 50}. Best is trial 2 with value: 0.003312203101813793.\n"
     ]
    },
    {
     "data": {
      "text/html": [],
      "text/plain": [
       "<IPython.core.display.HTML object>"
      ]
     },
     "metadata": {},
     "output_type": "display_data"
    },
    {
     "data": {
      "text/html": [
       "Tracking run with wandb version 0.22.0"
      ],
      "text/plain": [
       "<IPython.core.display.HTML object>"
      ]
     },
     "metadata": {},
     "output_type": "display_data"
    },
    {
     "data": {
      "text/html": [
       "Run data is saved locally in <code>/tf/Global-House-Purchase-Decision-ANN/wandb/run-20251014_180849-vg5aninm</code>"
      ],
      "text/plain": [
       "<IPython.core.display.HTML object>"
      ]
     },
     "metadata": {},
     "output_type": "display_data"
    },
    {
     "data": {
      "text/html": [
       "Syncing run <strong><a href='https://wandb.ai/emmdaz-zzz/Global-House-Purchase-Decision-ANN-Trials-4/runs/vg5aninm' target=\"_blank\">Trial_10</a></strong> to <a href='https://wandb.ai/emmdaz-zzz/Global-House-Purchase-Decision-ANN-Trials-4' target=\"_blank\">Weights & Biases</a> (<a href='https://wandb.me/developer-guide' target=\"_blank\">docs</a>)<br>"
      ],
      "text/plain": [
       "<IPython.core.display.HTML object>"
      ]
     },
     "metadata": {},
     "output_type": "display_data"
    },
    {
     "data": {
      "text/html": [
       " View project at <a href='https://wandb.ai/emmdaz-zzz/Global-House-Purchase-Decision-ANN-Trials-4' target=\"_blank\">https://wandb.ai/emmdaz-zzz/Global-House-Purchase-Decision-ANN-Trials-4</a>"
      ],
      "text/plain": [
       "<IPython.core.display.HTML object>"
      ]
     },
     "metadata": {},
     "output_type": "display_data"
    },
    {
     "data": {
      "text/html": [
       " View run at <a href='https://wandb.ai/emmdaz-zzz/Global-House-Purchase-Decision-ANN-Trials-4/runs/vg5aninm' target=\"_blank\">https://wandb.ai/emmdaz-zzz/Global-House-Purchase-Decision-ANN-Trials-4/runs/vg5aninm</a>"
      ],
      "text/plain": [
       "<IPython.core.display.HTML object>"
      ]
     },
     "metadata": {},
     "output_type": "display_data"
    },
    {
     "data": {
      "text/html": [],
      "text/plain": [
       "<IPython.core.display.HTML object>"
      ]
     },
     "metadata": {},
     "output_type": "display_data"
    },
    {
     "data": {
      "text/html": [
       "<br>    <style><br>        .wandb-row {<br>            display: flex;<br>            flex-direction: row;<br>            flex-wrap: wrap;<br>            justify-content: flex-start;<br>            width: 100%;<br>        }<br>        .wandb-col {<br>            display: flex;<br>            flex-direction: column;<br>            flex-basis: 100%;<br>            flex: 1;<br>            padding: 10px;<br>        }<br>    </style><br><div class=\"wandb-row\"><div class=\"wandb-col\"><h3>Run history:</h3><br/><table class=\"wandb\"><tr><td>batch/accuracy</td><td>▁███████████████████████████████████████</td></tr><tr><td>batch/batch_step</td><td>▁▁▁▂▂▂▃▃▃▃▃▃▃▃▄▄▄▄▄▄▅▅▅▅▆▆▆▆▆▆▆▆▇▇▇▇▇███</td></tr><tr><td>batch/learning_rate</td><td>▁▁▁▁▁▁▁▁▁▁▁▁▁▁▁▁▁▁▁▁▁▁▁▁▁▁▁▁▁▁▁▁▁▁▁▁▁▁▁▁</td></tr><tr><td>batch/loss</td><td>█▃▃▃▃▂▂▂▂▂▂▂▂▂▂▂▁▁▁▁▁▁▂▁▁▁▁▁▁▁▁▁▁▁▁▂▁▁▁▁</td></tr><tr><td>epoch/accuracy</td><td>▁▇██████████████████████████████████████</td></tr><tr><td>epoch/epoch</td><td>▁▁▁▁▂▂▂▂▂▃▃▃▃▃▃▄▄▄▄▄▅▅▅▅▅▆▆▆▆▆▆▇▇▇▇▇████</td></tr><tr><td>epoch/learning_rate</td><td>▁▁▁▁▁▁▁▁▁▁▁▁▁▁▁▁▁▁▁▁▁▁▁▁▁▁▁▁▁▁▁▁▁▁▁▁▁▁▁▁</td></tr><tr><td>epoch/loss</td><td>█▂▂▂▂▂▁▁▁▁▁▁▁▁▁▁▁▁▁▁▁▁▁▁▁▁▁▁▁▁▁▁▁▁▁▁▁▁▁▁</td></tr><tr><td>epoch/val_accuracy</td><td>▁▆▇▆▇█▆▇▇▇▇▇▇▆▇▇▇▇██▇▇▇▇█▇▇▇█▇█▆▇▇▇▇▇█▇▇</td></tr><tr><td>epoch/val_loss</td><td>▄▃▃▄▂▆▂▂▂▂▅▃▂▇▅▃▂▇▃▅▃▄▁▅▅▇▄▄▆▄▆▄▅▅▆██▃▃▅</td></tr></table><br/></div><div class=\"wandb-col\"><h3>Run summary:</h3><br/><table class=\"wandb\"><tr><td>batch/accuracy</td><td>0.99969</td></tr><tr><td>batch/batch_step</td><td>699995</td></tr><tr><td>batch/learning_rate</td><td>0.00094</td></tr><tr><td>batch/loss</td><td>0.00196</td></tr><tr><td>epoch/accuracy</td><td>0.99969</td></tr><tr><td>epoch/epoch</td><td>99</td></tr><tr><td>epoch/learning_rate</td><td>0.00094</td></tr><tr><td>epoch/loss</td><td>0.00196</td></tr><tr><td>epoch/val_accuracy</td><td>0.9979</td></tr><tr><td>epoch/val_loss</td><td>0.01173</td></tr></table><br/></div></div>"
      ],
      "text/plain": [
       "<IPython.core.display.HTML object>"
      ]
     },
     "metadata": {},
     "output_type": "display_data"
    },
    {
     "data": {
      "text/html": [
       " View run <strong style=\"color:#cdcd00\">Trial_10</strong> at: <a href='https://wandb.ai/emmdaz-zzz/Global-House-Purchase-Decision-ANN-Trials-4/runs/vg5aninm' target=\"_blank\">https://wandb.ai/emmdaz-zzz/Global-House-Purchase-Decision-ANN-Trials-4/runs/vg5aninm</a><br> View project at: <a href='https://wandb.ai/emmdaz-zzz/Global-House-Purchase-Decision-ANN-Trials-4' target=\"_blank\">https://wandb.ai/emmdaz-zzz/Global-House-Purchase-Decision-ANN-Trials-4</a><br>Synced 5 W&B file(s), 0 media file(s), 0 artifact file(s) and 0 other file(s)"
      ],
      "text/plain": [
       "<IPython.core.display.HTML object>"
      ]
     },
     "metadata": {},
     "output_type": "display_data"
    },
    {
     "data": {
      "text/html": [
       "Find logs at: <code>./wandb/run-20251014_180849-vg5aninm/logs</code>"
      ],
      "text/plain": [
       "<IPython.core.display.HTML object>"
      ]
     },
     "metadata": {},
     "output_type": "display_data"
    },
    {
     "name": "stderr",
     "output_type": "stream",
     "text": [
      "[I 2025-10-14 18:20:35,754] Trial 10 finished with value: 0.005110664712265134 and parameters: {'Layer_1_units': 120, 'Activation_1': 'relu', 'n_layers': 3, 'Regularizer': 'L2', 'regularizer_value': 1.6257225996980282e-05, 'regularizer_value_2': 7.545481195384511e-05, 'Layer_2_units': 127, 'Activation_2': 'relu', 'Dropout_L2': 'y', 'Dropout_valueL2': 0.4241073989665894, 'Layer_3_units': 32, 'Activation_3': 'sigmoid', 'Dropout_L3': 'y', 'Dropout_valueL3': 0.20588658562980897, 'Layer_4_units': 125, 'Activation_4': 'relu', 'Dropout_L4': 'y', 'Dropout_valueL4': 0.4906779917755568, 'learning_rate': 0.0009434342024453927, 'optimizer': 'adam', 'batch_size': 20}. Best is trial 2 with value: 0.003312203101813793.\n"
     ]
    },
    {
     "data": {
      "text/html": [],
      "text/plain": [
       "<IPython.core.display.HTML object>"
      ]
     },
     "metadata": {},
     "output_type": "display_data"
    },
    {
     "data": {
      "text/html": [
       "Tracking run with wandb version 0.22.0"
      ],
      "text/plain": [
       "<IPython.core.display.HTML object>"
      ]
     },
     "metadata": {},
     "output_type": "display_data"
    },
    {
     "data": {
      "text/html": [
       "Run data is saved locally in <code>/tf/Global-House-Purchase-Decision-ANN/wandb/run-20251014_182035-aez9rwit</code>"
      ],
      "text/plain": [
       "<IPython.core.display.HTML object>"
      ]
     },
     "metadata": {},
     "output_type": "display_data"
    },
    {
     "data": {
      "text/html": [
       "Syncing run <strong><a href='https://wandb.ai/emmdaz-zzz/Global-House-Purchase-Decision-ANN-Trials-4/runs/aez9rwit' target=\"_blank\">Trial_11</a></strong> to <a href='https://wandb.ai/emmdaz-zzz/Global-House-Purchase-Decision-ANN-Trials-4' target=\"_blank\">Weights & Biases</a> (<a href='https://wandb.me/developer-guide' target=\"_blank\">docs</a>)<br>"
      ],
      "text/plain": [
       "<IPython.core.display.HTML object>"
      ]
     },
     "metadata": {},
     "output_type": "display_data"
    },
    {
     "data": {
      "text/html": [
       " View project at <a href='https://wandb.ai/emmdaz-zzz/Global-House-Purchase-Decision-ANN-Trials-4' target=\"_blank\">https://wandb.ai/emmdaz-zzz/Global-House-Purchase-Decision-ANN-Trials-4</a>"
      ],
      "text/plain": [
       "<IPython.core.display.HTML object>"
      ]
     },
     "metadata": {},
     "output_type": "display_data"
    },
    {
     "data": {
      "text/html": [
       " View run at <a href='https://wandb.ai/emmdaz-zzz/Global-House-Purchase-Decision-ANN-Trials-4/runs/aez9rwit' target=\"_blank\">https://wandb.ai/emmdaz-zzz/Global-House-Purchase-Decision-ANN-Trials-4/runs/aez9rwit</a>"
      ],
      "text/plain": [
       "<IPython.core.display.HTML object>"
      ]
     },
     "metadata": {},
     "output_type": "display_data"
    },
    {
     "data": {
      "text/html": [],
      "text/plain": [
       "<IPython.core.display.HTML object>"
      ]
     },
     "metadata": {},
     "output_type": "display_data"
    },
    {
     "data": {
      "text/html": [
       "<br>    <style><br>        .wandb-row {<br>            display: flex;<br>            flex-direction: row;<br>            flex-wrap: wrap;<br>            justify-content: flex-start;<br>            width: 100%;<br>        }<br>        .wandb-col {<br>            display: flex;<br>            flex-direction: column;<br>            flex-basis: 100%;<br>            flex: 1;<br>            padding: 10px;<br>        }<br>    </style><br><div class=\"wandb-row\"><div class=\"wandb-col\"><h3>Run history:</h3><br/><table class=\"wandb\"><tr><td>batch/accuracy</td><td>▁▇██████████████████████████████████████</td></tr><tr><td>batch/batch_step</td><td>▁▁▁▂▂▂▂▂▂▂▂▃▃▃▄▄▄▅▅▅▅▅▆▆▆▆▆▆▆▇▇▇▇▇██████</td></tr><tr><td>batch/learning_rate</td><td>▁▁▁▁▁▁▁▁▁▁▁▁▁▁▁▁▁▁▁▁▁▁▁▁▁▁▁▁▁▁▁▁▁▁▁▁▁▁▁▁</td></tr><tr><td>batch/loss</td><td>█▂▂▂▂▁▁▁▁▁▁▁▁▁▁▁▁▁▁▁▁▁▁▁▁▁▁▁▁▁▁▁▁▁▁▁▁▁▁▁</td></tr><tr><td>epoch/accuracy</td><td>▁▃▃▄▄▅▅▆▆▇▇▇▇▇▇▇▇██▇███▇████████████████</td></tr><tr><td>epoch/epoch</td><td>▁▁▁▂▂▂▂▂▂▂▃▃▃▃▃▃▃▄▄▄▄▄▄▅▅▅▅▅▅▅▆▆▆▆▇█████</td></tr><tr><td>epoch/learning_rate</td><td>▁▁▁▁▁▁▁▁▁▁▁▁▁▁▁▁▁▁▁▁▁▁▁▁▁▁▁▁▁▁▁▁▁▁▁▁▁▁▁▁</td></tr><tr><td>epoch/loss</td><td>█▃▂▂▂▁▁▁▁▁▁▁▁▁▁▁▁▁▁▁▁▁▁▁▁▁▁▁▁▁▁▁▁▁▁▁▁▁▁▁</td></tr><tr><td>epoch/val_accuracy</td><td>▁▁▇▆▆▇▇▇▇▇▇▇▆▇▆▇▇▆▆█▇▇▇██▆▆▇▇▇▇▇▇▇▇▇▇▆▇▇</td></tr><tr><td>epoch/val_loss</td><td>█▂▁▂▄▂▂▁▃▄▃▃▂▁▃▂▂▁▂▂▁▃▃▃▃▄▄▂▁▄▅▄▅▃▄▂▄▃▅▃</td></tr></table><br/></div><div class=\"wandb-col\"><h3>Run summary:</h3><br/><table class=\"wandb\"><tr><td>batch/accuracy</td><td>0.99973</td></tr><tr><td>batch/batch_step</td><td>699995</td></tr><tr><td>batch/learning_rate</td><td>0.00114</td></tr><tr><td>batch/loss</td><td>0.00196</td></tr><tr><td>epoch/accuracy</td><td>0.99973</td></tr><tr><td>epoch/epoch</td><td>99</td></tr><tr><td>epoch/learning_rate</td><td>0.00114</td></tr><tr><td>epoch/loss</td><td>0.00196</td></tr><tr><td>epoch/val_accuracy</td><td>0.99785</td></tr><tr><td>epoch/val_loss</td><td>0.0138</td></tr></table><br/></div></div>"
      ],
      "text/plain": [
       "<IPython.core.display.HTML object>"
      ]
     },
     "metadata": {},
     "output_type": "display_data"
    },
    {
     "data": {
      "text/html": [
       " View run <strong style=\"color:#cdcd00\">Trial_11</strong> at: <a href='https://wandb.ai/emmdaz-zzz/Global-House-Purchase-Decision-ANN-Trials-4/runs/aez9rwit' target=\"_blank\">https://wandb.ai/emmdaz-zzz/Global-House-Purchase-Decision-ANN-Trials-4/runs/aez9rwit</a><br> View project at: <a href='https://wandb.ai/emmdaz-zzz/Global-House-Purchase-Decision-ANN-Trials-4' target=\"_blank\">https://wandb.ai/emmdaz-zzz/Global-House-Purchase-Decision-ANN-Trials-4</a><br>Synced 5 W&B file(s), 0 media file(s), 0 artifact file(s) and 0 other file(s)"
      ],
      "text/plain": [
       "<IPython.core.display.HTML object>"
      ]
     },
     "metadata": {},
     "output_type": "display_data"
    },
    {
     "data": {
      "text/html": [
       "Find logs at: <code>./wandb/run-20251014_182035-aez9rwit/logs</code>"
      ],
      "text/plain": [
       "<IPython.core.display.HTML object>"
      ]
     },
     "metadata": {},
     "output_type": "display_data"
    },
    {
     "name": "stderr",
     "output_type": "stream",
     "text": [
      "[I 2025-10-14 18:32:22,389] Trial 11 finished with value: 0.00563313621096313 and parameters: {'Layer_1_units': 127, 'Activation_1': 'relu', 'n_layers': 3, 'Regularizer': 'L2', 'regularizer_value': 1.829549518129321e-05, 'regularizer_value_2': 9.790031366048452e-05, 'Layer_2_units': 128, 'Activation_2': 'relu', 'Dropout_L2': 'y', 'Dropout_valueL2': 0.40505994767029924, 'Layer_3_units': 37, 'Activation_3': 'sigmoid', 'Dropout_L3': 'y', 'Dropout_valueL3': 0.20720118718906516, 'Layer_4_units': 128, 'Activation_4': 'relu', 'Dropout_L4': 'y', 'Dropout_valueL4': 0.4881586280044701, 'learning_rate': 0.0011389815463413995, 'optimizer': 'adam', 'batch_size': 20}. Best is trial 2 with value: 0.003312203101813793.\n"
     ]
    },
    {
     "data": {
      "text/html": [],
      "text/plain": [
       "<IPython.core.display.HTML object>"
      ]
     },
     "metadata": {},
     "output_type": "display_data"
    },
    {
     "data": {
      "text/html": [
       "Tracking run with wandb version 0.22.0"
      ],
      "text/plain": [
       "<IPython.core.display.HTML object>"
      ]
     },
     "metadata": {},
     "output_type": "display_data"
    },
    {
     "data": {
      "text/html": [
       "Run data is saved locally in <code>/tf/Global-House-Purchase-Decision-ANN/wandb/run-20251014_183222-lp0sc7e4</code>"
      ],
      "text/plain": [
       "<IPython.core.display.HTML object>"
      ]
     },
     "metadata": {},
     "output_type": "display_data"
    },
    {
     "data": {
      "text/html": [
       "Syncing run <strong><a href='https://wandb.ai/emmdaz-zzz/Global-House-Purchase-Decision-ANN-Trials-4/runs/lp0sc7e4' target=\"_blank\">Trial_12</a></strong> to <a href='https://wandb.ai/emmdaz-zzz/Global-House-Purchase-Decision-ANN-Trials-4' target=\"_blank\">Weights & Biases</a> (<a href='https://wandb.me/developer-guide' target=\"_blank\">docs</a>)<br>"
      ],
      "text/plain": [
       "<IPython.core.display.HTML object>"
      ]
     },
     "metadata": {},
     "output_type": "display_data"
    },
    {
     "data": {
      "text/html": [
       " View project at <a href='https://wandb.ai/emmdaz-zzz/Global-House-Purchase-Decision-ANN-Trials-4' target=\"_blank\">https://wandb.ai/emmdaz-zzz/Global-House-Purchase-Decision-ANN-Trials-4</a>"
      ],
      "text/plain": [
       "<IPython.core.display.HTML object>"
      ]
     },
     "metadata": {},
     "output_type": "display_data"
    },
    {
     "data": {
      "text/html": [
       " View run at <a href='https://wandb.ai/emmdaz-zzz/Global-House-Purchase-Decision-ANN-Trials-4/runs/lp0sc7e4' target=\"_blank\">https://wandb.ai/emmdaz-zzz/Global-House-Purchase-Decision-ANN-Trials-4/runs/lp0sc7e4</a>"
      ],
      "text/plain": [
       "<IPython.core.display.HTML object>"
      ]
     },
     "metadata": {},
     "output_type": "display_data"
    },
    {
     "data": {
      "text/html": [],
      "text/plain": [
       "<IPython.core.display.HTML object>"
      ]
     },
     "metadata": {},
     "output_type": "display_data"
    },
    {
     "data": {
      "text/html": [
       "<br>    <style><br>        .wandb-row {<br>            display: flex;<br>            flex-direction: row;<br>            flex-wrap: wrap;<br>            justify-content: flex-start;<br>            width: 100%;<br>        }<br>        .wandb-col {<br>            display: flex;<br>            flex-direction: column;<br>            flex-basis: 100%;<br>            flex: 1;<br>            padding: 10px;<br>        }<br>    </style><br><div class=\"wandb-row\"><div class=\"wandb-col\"><h3>Run history:</h3><br/><table class=\"wandb\"><tr><td>batch/accuracy</td><td>▁▆██████████████████████████████████████</td></tr><tr><td>batch/batch_step</td><td>▁▁▁▂▂▂▂▂▂▃▃▃▃▃▃▃▃▄▄▄▄▄▄▄▅▅▅▅▆▆▆▇▇▇▇▇████</td></tr><tr><td>batch/learning_rate</td><td>▁▁▁▁▁▁▁▁▁▁▁▁▁▁▁▁▁▁▁▁▁▁▁▁▁▁▁▁▁▁▁▁▁▁▁▁▁▁▁▁</td></tr><tr><td>batch/loss</td><td>█▂▁▁▁▁▁▁▁▁▁▁▁▁▁▁▁▁▁▁▁▁▁▁▁▁▁▁▁▁▁▁▁▁▁▁▁▁▁▁</td></tr><tr><td>epoch/accuracy</td><td>▁▂▃▄▆▇▇▇▇▇▇▇█▇▇▇▇███████████████████████</td></tr><tr><td>epoch/epoch</td><td>▁▁▁▂▂▂▂▂▂▂▃▃▃▃▄▄▄▄▄▄▄▅▅▅▅▅▅▆▆▆▆▇▇▇▇▇▇███</td></tr><tr><td>epoch/learning_rate</td><td>▁▁▁▁▁▁▁▁▁▁▁▁▁▁▁▁▁▁▁▁▁▁▁▁▁▁▁▁▁▁▁▁▁▁▁▁▁▁▁▁</td></tr><tr><td>epoch/loss</td><td>█▂▂▂▂▁▁▁▁▁▁▁▁▁▁▁▁▁▁▁▁▁▁▁▁▁▁▁▁▁▁▁▁▁▁▁▁▁▁▁</td></tr><tr><td>epoch/val_accuracy</td><td>▁███████████████████████████████████████</td></tr><tr><td>epoch/val_loss</td><td>█▅▃▃▂▂▂▂▂▁▂▂▁▁▁▂▃▂▁▂▃▃▂▂▂▂▂▂▂▁▁▃▃▃▂▁▁▂▁▂</td></tr></table><br/></div><div class=\"wandb-col\"><h3>Run summary:</h3><br/><table class=\"wandb\"><tr><td>batch/accuracy</td><td>0.99965</td></tr><tr><td>batch/batch_step</td><td>699995</td></tr><tr><td>batch/learning_rate</td><td>0.00015</td></tr><tr><td>batch/loss</td><td>0.00344</td></tr><tr><td>epoch/accuracy</td><td>0.99965</td></tr><tr><td>epoch/epoch</td><td>99</td></tr><tr><td>epoch/learning_rate</td><td>0.00015</td></tr><tr><td>epoch/loss</td><td>0.00344</td></tr><tr><td>epoch/val_accuracy</td><td>0.998</td></tr><tr><td>epoch/val_loss</td><td>0.01055</td></tr></table><br/></div></div>"
      ],
      "text/plain": [
       "<IPython.core.display.HTML object>"
      ]
     },
     "metadata": {},
     "output_type": "display_data"
    },
    {
     "data": {
      "text/html": [
       " View run <strong style=\"color:#cdcd00\">Trial_12</strong> at: <a href='https://wandb.ai/emmdaz-zzz/Global-House-Purchase-Decision-ANN-Trials-4/runs/lp0sc7e4' target=\"_blank\">https://wandb.ai/emmdaz-zzz/Global-House-Purchase-Decision-ANN-Trials-4/runs/lp0sc7e4</a><br> View project at: <a href='https://wandb.ai/emmdaz-zzz/Global-House-Purchase-Decision-ANN-Trials-4' target=\"_blank\">https://wandb.ai/emmdaz-zzz/Global-House-Purchase-Decision-ANN-Trials-4</a><br>Synced 5 W&B file(s), 0 media file(s), 0 artifact file(s) and 0 other file(s)"
      ],
      "text/plain": [
       "<IPython.core.display.HTML object>"
      ]
     },
     "metadata": {},
     "output_type": "display_data"
    },
    {
     "data": {
      "text/html": [
       "Find logs at: <code>./wandb/run-20251014_183222-lp0sc7e4/logs</code>"
      ],
      "text/plain": [
       "<IPython.core.display.HTML object>"
      ]
     },
     "metadata": {},
     "output_type": "display_data"
    },
    {
     "name": "stderr",
     "output_type": "stream",
     "text": [
      "[I 2025-10-14 18:44:11,947] Trial 12 finished with value: 0.008109684032388032 and parameters: {'Layer_1_units': 112, 'Activation_1': 'relu', 'n_layers': 3, 'Regularizer': 'L2', 'regularizer_value': 9.640792685151539e-05, 'regularizer_value_2': 3.562141264026679e-05, 'Layer_2_units': 101, 'Activation_2': 'relu', 'Dropout_L2': 'y', 'Dropout_valueL2': 0.4396190427736295, 'Layer_3_units': 63, 'Activation_3': 'sigmoid', 'Dropout_L3': 'y', 'Dropout_valueL3': 0.20856992979468975, 'Layer_4_units': 103, 'Activation_4': 'relu', 'Dropout_L4': 'y', 'Dropout_valueL4': 0.4909668124477153, 'learning_rate': 0.00014614421588942666, 'optimizer': 'adam', 'batch_size': 20}. Best is trial 2 with value: 0.003312203101813793.\n"
     ]
    },
    {
     "data": {
      "text/html": [],
      "text/plain": [
       "<IPython.core.display.HTML object>"
      ]
     },
     "metadata": {},
     "output_type": "display_data"
    },
    {
     "data": {
      "text/html": [
       "Tracking run with wandb version 0.22.0"
      ],
      "text/plain": [
       "<IPython.core.display.HTML object>"
      ]
     },
     "metadata": {},
     "output_type": "display_data"
    },
    {
     "data": {
      "text/html": [
       "Run data is saved locally in <code>/tf/Global-House-Purchase-Decision-ANN/wandb/run-20251014_184412-z7tlfyr4</code>"
      ],
      "text/plain": [
       "<IPython.core.display.HTML object>"
      ]
     },
     "metadata": {},
     "output_type": "display_data"
    },
    {
     "data": {
      "text/html": [
       "Syncing run <strong><a href='https://wandb.ai/emmdaz-zzz/Global-House-Purchase-Decision-ANN-Trials-4/runs/z7tlfyr4' target=\"_blank\">Trial_13</a></strong> to <a href='https://wandb.ai/emmdaz-zzz/Global-House-Purchase-Decision-ANN-Trials-4' target=\"_blank\">Weights & Biases</a> (<a href='https://wandb.me/developer-guide' target=\"_blank\">docs</a>)<br>"
      ],
      "text/plain": [
       "<IPython.core.display.HTML object>"
      ]
     },
     "metadata": {},
     "output_type": "display_data"
    },
    {
     "data": {
      "text/html": [
       " View project at <a href='https://wandb.ai/emmdaz-zzz/Global-House-Purchase-Decision-ANN-Trials-4' target=\"_blank\">https://wandb.ai/emmdaz-zzz/Global-House-Purchase-Decision-ANN-Trials-4</a>"
      ],
      "text/plain": [
       "<IPython.core.display.HTML object>"
      ]
     },
     "metadata": {},
     "output_type": "display_data"
    },
    {
     "data": {
      "text/html": [
       " View run at <a href='https://wandb.ai/emmdaz-zzz/Global-House-Purchase-Decision-ANN-Trials-4/runs/z7tlfyr4' target=\"_blank\">https://wandb.ai/emmdaz-zzz/Global-House-Purchase-Decision-ANN-Trials-4/runs/z7tlfyr4</a>"
      ],
      "text/plain": [
       "<IPython.core.display.HTML object>"
      ]
     },
     "metadata": {},
     "output_type": "display_data"
    },
    {
     "data": {
      "text/html": [],
      "text/plain": [
       "<IPython.core.display.HTML object>"
      ]
     },
     "metadata": {},
     "output_type": "display_data"
    },
    {
     "data": {
      "text/html": [
       "<br>    <style><br>        .wandb-row {<br>            display: flex;<br>            flex-direction: row;<br>            flex-wrap: wrap;<br>            justify-content: flex-start;<br>            width: 100%;<br>        }<br>        .wandb-col {<br>            display: flex;<br>            flex-direction: column;<br>            flex-basis: 100%;<br>            flex: 1;<br>            padding: 10px;<br>        }<br>    </style><br><div class=\"wandb-row\"><div class=\"wandb-col\"><h3>Run history:</h3><br/><table class=\"wandb\"><tr><td>batch/accuracy</td><td>▁███████████████████████████████████████</td></tr><tr><td>batch/batch_step</td><td>▁▁▁▁▁▂▂▂▂▂▃▃▃▃▃▃▃▄▄▄▄▄▄▄▅▅▅▆▆▆▆▇▇▇▇▇████</td></tr><tr><td>batch/learning_rate</td><td>▁▁▁▁▁▁▁▁▁▁▁▁▁▁▁▁▁▁▁▁▁▁▁▁▁▁▁▁▁▁▁▁▁▁▁▁▁▁▁▁</td></tr><tr><td>batch/loss</td><td>█▄▁▁▁▁▁▁▁▁▁▁▁▁▁▁▁▁▁▁▁▁▁▁▁▁▁▁▁▁▁▁▁▁▁▁▁▁▁▁</td></tr><tr><td>epoch/accuracy</td><td>▁▄▅▅▆▆▇▇▇▇▇▇▇▇████▇█████████████████████</td></tr><tr><td>epoch/epoch</td><td>▁▁▁▁▁▂▂▂▂▂▃▃▃▃▃▃▄▄▄▄▄▅▅▅▅▅▅▅▅▅▆▆▆▆▇▇▇▇▇█</td></tr><tr><td>epoch/learning_rate</td><td>▁▁▁▁▁▁▁▁▁▁▁▁▁▁▁▁▁▁▁▁▁▁▁▁▁▁▁▁▁▁▁▁▁▁▁▁▁▁▁▁</td></tr><tr><td>epoch/loss</td><td>█▇▅▅▄▄▄▃▃▃▂▂▂▂▂▂▂▂▂▂▂▂▂▁▁▁▂▁▂▁▁▁▁▁▁▁▁▁▁▁</td></tr><tr><td>epoch/val_accuracy</td><td>▁▅▆▇▇▆▇▇▇▇█▇▄▇▇▇███▇▇▇▇██▇▇▇█▇▇▇▇██▇█▇██</td></tr><tr><td>epoch/val_loss</td><td>█▃▂▂▂▂▁▂▄▂▂▂▂▁▂▂▂▂▂▁▂▂▂▂▂▃▂▂▂▂▂▂▂▂▂▂▂▂▂▂</td></tr></table><br/></div><div class=\"wandb-col\"><h3>Run summary:</h3><br/><table class=\"wandb\"><tr><td>batch/accuracy</td><td>0.99983</td></tr><tr><td>batch/batch_step</td><td>139995</td></tr><tr><td>batch/learning_rate</td><td>0.00178</td></tr><tr><td>batch/loss</td><td>0.00129</td></tr><tr><td>epoch/accuracy</td><td>0.99983</td></tr><tr><td>epoch/epoch</td><td>99</td></tr><tr><td>epoch/learning_rate</td><td>0.00178</td></tr><tr><td>epoch/loss</td><td>0.00129</td></tr><tr><td>epoch/val_accuracy</td><td>0.99805</td></tr><tr><td>epoch/val_loss</td><td>0.00833</td></tr></table><br/></div></div>"
      ],
      "text/plain": [
       "<IPython.core.display.HTML object>"
      ]
     },
     "metadata": {},
     "output_type": "display_data"
    },
    {
     "data": {
      "text/html": [
       " View run <strong style=\"color:#cdcd00\">Trial_13</strong> at: <a href='https://wandb.ai/emmdaz-zzz/Global-House-Purchase-Decision-ANN-Trials-4/runs/z7tlfyr4' target=\"_blank\">https://wandb.ai/emmdaz-zzz/Global-House-Purchase-Decision-ANN-Trials-4/runs/z7tlfyr4</a><br> View project at: <a href='https://wandb.ai/emmdaz-zzz/Global-House-Purchase-Decision-ANN-Trials-4' target=\"_blank\">https://wandb.ai/emmdaz-zzz/Global-House-Purchase-Decision-ANN-Trials-4</a><br>Synced 5 W&B file(s), 0 media file(s), 0 artifact file(s) and 0 other file(s)"
      ],
      "text/plain": [
       "<IPython.core.display.HTML object>"
      ]
     },
     "metadata": {},
     "output_type": "display_data"
    },
    {
     "data": {
      "text/html": [
       "Find logs at: <code>./wandb/run-20251014_184412-z7tlfyr4/logs</code>"
      ],
      "text/plain": [
       "<IPython.core.display.HTML object>"
      ]
     },
     "metadata": {},
     "output_type": "display_data"
    },
    {
     "name": "stderr",
     "output_type": "stream",
     "text": [
      "[I 2025-10-14 18:47:01,418] Trial 13 finished with value: 0.005313858587760479 and parameters: {'Layer_1_units': 109, 'Activation_1': 'relu', 'n_layers': 2, 'Regularizer': 'L2', 'regularizer_value': 1.6532255660370072e-05, 'regularizer_value_2': 3.9443862690715165e-05, 'Layer_2_units': 124, 'Activation_2': 'relu', 'Dropout_L2': 'y', 'Dropout_valueL2': 0.36882837881598907, 'Layer_3_units': 66, 'Activation_3': 'sigmoid', 'Dropout_L3': 'y', 'Dropout_valueL3': 0.28615540430876896, 'learning_rate': 0.0017813687043906456, 'optimizer': 'adam', 'batch_size': 100}. Best is trial 2 with value: 0.003312203101813793.\n"
     ]
    },
    {
     "data": {
      "text/html": [],
      "text/plain": [
       "<IPython.core.display.HTML object>"
      ]
     },
     "metadata": {},
     "output_type": "display_data"
    },
    {
     "data": {
      "text/html": [
       "Tracking run with wandb version 0.22.0"
      ],
      "text/plain": [
       "<IPython.core.display.HTML object>"
      ]
     },
     "metadata": {},
     "output_type": "display_data"
    },
    {
     "data": {
      "text/html": [
       "Run data is saved locally in <code>/tf/Global-House-Purchase-Decision-ANN/wandb/run-20251014_184701-kbmcjsc1</code>"
      ],
      "text/plain": [
       "<IPython.core.display.HTML object>"
      ]
     },
     "metadata": {},
     "output_type": "display_data"
    },
    {
     "data": {
      "text/html": [
       "Syncing run <strong><a href='https://wandb.ai/emmdaz-zzz/Global-House-Purchase-Decision-ANN-Trials-4/runs/kbmcjsc1' target=\"_blank\">Trial_14</a></strong> to <a href='https://wandb.ai/emmdaz-zzz/Global-House-Purchase-Decision-ANN-Trials-4' target=\"_blank\">Weights & Biases</a> (<a href='https://wandb.me/developer-guide' target=\"_blank\">docs</a>)<br>"
      ],
      "text/plain": [
       "<IPython.core.display.HTML object>"
      ]
     },
     "metadata": {},
     "output_type": "display_data"
    },
    {
     "data": {
      "text/html": [
       " View project at <a href='https://wandb.ai/emmdaz-zzz/Global-House-Purchase-Decision-ANN-Trials-4' target=\"_blank\">https://wandb.ai/emmdaz-zzz/Global-House-Purchase-Decision-ANN-Trials-4</a>"
      ],
      "text/plain": [
       "<IPython.core.display.HTML object>"
      ]
     },
     "metadata": {},
     "output_type": "display_data"
    },
    {
     "data": {
      "text/html": [
       " View run at <a href='https://wandb.ai/emmdaz-zzz/Global-House-Purchase-Decision-ANN-Trials-4/runs/kbmcjsc1' target=\"_blank\">https://wandb.ai/emmdaz-zzz/Global-House-Purchase-Decision-ANN-Trials-4/runs/kbmcjsc1</a>"
      ],
      "text/plain": [
       "<IPython.core.display.HTML object>"
      ]
     },
     "metadata": {},
     "output_type": "display_data"
    },
    {
     "data": {
      "text/html": [],
      "text/plain": [
       "<IPython.core.display.HTML object>"
      ]
     },
     "metadata": {},
     "output_type": "display_data"
    },
    {
     "data": {
      "text/html": [
       "<br>    <style><br>        .wandb-row {<br>            display: flex;<br>            flex-direction: row;<br>            flex-wrap: wrap;<br>            justify-content: flex-start;<br>            width: 100%;<br>        }<br>        .wandb-col {<br>            display: flex;<br>            flex-direction: column;<br>            flex-basis: 100%;<br>            flex: 1;<br>            padding: 10px;<br>        }<br>    </style><br><div class=\"wandb-row\"><div class=\"wandb-col\"><h3>Run history:</h3><br/><table class=\"wandb\"><tr><td>batch/accuracy</td><td>▁▄▄▄▅▅▄▅▅▆▅▆▆▆▅▆▆▆▆▆▆▆▆▆▆▆▆▅▆▇▆▆▆▆▆█▆▆▆▇</td></tr><tr><td>batch/batch_step</td><td>▁▁▁▂▂▂▂▃▃▃▄▄▄▄▄▄▄▄▄▄▅▅▅▅▅▅▅▅▅▆▆▆▆▆▇▇▇▇██</td></tr><tr><td>batch/learning_rate</td><td>▁▁▁▁▁▁▁▁▁▁▁▁▁▁▁▁▁▁▁▁▁▁▁▁▁▁▁▁▁▁▁▁▁▁▁▁▁▁▁▁</td></tr><tr><td>batch/loss</td><td>█▂▂▁▁▁▁▁▁▁▁▁▁▁▁▁▁▁▁▁▁▁▁▁▁▁▁▁▁▁▁▁▁▁▁▁▁▁▁▁</td></tr><tr><td>epoch/accuracy</td><td>▁▇██████████████████████████████████████</td></tr><tr><td>epoch/epoch</td><td>▁▁▁▁▁▂▂▂▂▂▂▃▃▃▃▄▄▄▄▅▅▅▅▅▅▅▆▆▆▆▇▇▇▇▇█████</td></tr><tr><td>epoch/learning_rate</td><td>▁▁▁▁▁▁▁▁▁▁▁▁▁▁▁▁▁▁▁▁▁▁▁▁▁▁▁▁▁▁▁▁▁▁▁▁▁▁▁▁</td></tr><tr><td>epoch/loss</td><td>█▃▂▁▁▁▁▁▁▁▁▁▁▁▁▁▁▁▁▁▁▁▁▁▁▁▁▁▁▁▁▁▁▁▁▁▁▁▁▁</td></tr><tr><td>epoch/val_accuracy</td><td>▁▄▄▆▆▇▆▇▇▆▇▇▆▇▆▇▇▇▇▇▇██▇▇█▇▇▇▆▇█▇▇███▇▇▇</td></tr><tr><td>epoch/val_loss</td><td>█▇▄▃▃▂▂▂▂▃▂▂▂▂▂▂▂▁▂▂▂▁▂▁▂▁▁▂▁▁▁▁▁▁▁▁▁▁▂▁</td></tr></table><br/></div><div class=\"wandb-col\"><h3>Run summary:</h3><br/><table class=\"wandb\"><tr><td>batch/accuracy</td><td>0.9993</td></tr><tr><td>batch/batch_step</td><td>699995</td></tr><tr><td>batch/learning_rate</td><td>0.00035</td></tr><tr><td>batch/loss</td><td>0.00245</td></tr><tr><td>epoch/accuracy</td><td>0.9993</td></tr><tr><td>epoch/epoch</td><td>99</td></tr><tr><td>epoch/learning_rate</td><td>0.00035</td></tr><tr><td>epoch/loss</td><td>0.00245</td></tr><tr><td>epoch/val_accuracy</td><td>0.9983</td></tr><tr><td>epoch/val_loss</td><td>0.00426</td></tr></table><br/></div></div>"
      ],
      "text/plain": [
       "<IPython.core.display.HTML object>"
      ]
     },
     "metadata": {},
     "output_type": "display_data"
    },
    {
     "data": {
      "text/html": [
       " View run <strong style=\"color:#cdcd00\">Trial_14</strong> at: <a href='https://wandb.ai/emmdaz-zzz/Global-House-Purchase-Decision-ANN-Trials-4/runs/kbmcjsc1' target=\"_blank\">https://wandb.ai/emmdaz-zzz/Global-House-Purchase-Decision-ANN-Trials-4/runs/kbmcjsc1</a><br> View project at: <a href='https://wandb.ai/emmdaz-zzz/Global-House-Purchase-Decision-ANN-Trials-4' target=\"_blank\">https://wandb.ai/emmdaz-zzz/Global-House-Purchase-Decision-ANN-Trials-4</a><br>Synced 5 W&B file(s), 0 media file(s), 0 artifact file(s) and 0 other file(s)"
      ],
      "text/plain": [
       "<IPython.core.display.HTML object>"
      ]
     },
     "metadata": {},
     "output_type": "display_data"
    },
    {
     "data": {
      "text/html": [
       "Find logs at: <code>./wandb/run-20251014_184701-kbmcjsc1/logs</code>"
      ],
      "text/plain": [
       "<IPython.core.display.HTML object>"
      ]
     },
     "metadata": {},
     "output_type": "display_data"
    },
    {
     "name": "stderr",
     "output_type": "stream",
     "text": [
      "[I 2025-10-14 18:57:20,516] Trial 14 finished with value: 0.003745954972691834 and parameters: {'Layer_1_units': 55, 'Activation_1': 'relu', 'n_layers': 2, 'Regularizer': 'L1L2', 'regularizer_value': 1.6868256277540437e-05, 'regularizer_value_2': 2.4481958565803134e-05, 'Layer_2_units': 99, 'Activation_2': 'relu', 'Dropout_L2': 'n', 'Dropout_valueL2': 0.43562106911938375, 'Layer_3_units': 36, 'Activation_3': 'sigmoid', 'Dropout_L3': 'y', 'Dropout_valueL3': 0.2539135510636094, 'learning_rate': 0.00035406883716909845, 'optimizer': 'rmsprop', 'batch_size': 20}. Best is trial 2 with value: 0.003312203101813793.\n"
     ]
    },
    {
     "data": {
      "text/html": [],
      "text/plain": [
       "<IPython.core.display.HTML object>"
      ]
     },
     "metadata": {},
     "output_type": "display_data"
    },
    {
     "data": {
      "text/html": [
       "Tracking run with wandb version 0.22.0"
      ],
      "text/plain": [
       "<IPython.core.display.HTML object>"
      ]
     },
     "metadata": {},
     "output_type": "display_data"
    },
    {
     "data": {
      "text/html": [
       "Run data is saved locally in <code>/tf/Global-House-Purchase-Decision-ANN/wandb/run-20251014_185720-prj1cgy6</code>"
      ],
      "text/plain": [
       "<IPython.core.display.HTML object>"
      ]
     },
     "metadata": {},
     "output_type": "display_data"
    },
    {
     "data": {
      "text/html": [
       "Syncing run <strong><a href='https://wandb.ai/emmdaz-zzz/Global-House-Purchase-Decision-ANN-Trials-4/runs/prj1cgy6' target=\"_blank\">Trial_15</a></strong> to <a href='https://wandb.ai/emmdaz-zzz/Global-House-Purchase-Decision-ANN-Trials-4' target=\"_blank\">Weights & Biases</a> (<a href='https://wandb.me/developer-guide' target=\"_blank\">docs</a>)<br>"
      ],
      "text/plain": [
       "<IPython.core.display.HTML object>"
      ]
     },
     "metadata": {},
     "output_type": "display_data"
    },
    {
     "data": {
      "text/html": [
       " View project at <a href='https://wandb.ai/emmdaz-zzz/Global-House-Purchase-Decision-ANN-Trials-4' target=\"_blank\">https://wandb.ai/emmdaz-zzz/Global-House-Purchase-Decision-ANN-Trials-4</a>"
      ],
      "text/plain": [
       "<IPython.core.display.HTML object>"
      ]
     },
     "metadata": {},
     "output_type": "display_data"
    },
    {
     "data": {
      "text/html": [
       " View run at <a href='https://wandb.ai/emmdaz-zzz/Global-House-Purchase-Decision-ANN-Trials-4/runs/prj1cgy6' target=\"_blank\">https://wandb.ai/emmdaz-zzz/Global-House-Purchase-Decision-ANN-Trials-4/runs/prj1cgy6</a>"
      ],
      "text/plain": [
       "<IPython.core.display.HTML object>"
      ]
     },
     "metadata": {},
     "output_type": "display_data"
    }
   ],
   "source": [
    "study = optuna.create_study(study_name = \"Proyecto\", direction = \"minimize\")\n",
    "study.optimize(objective, n_trials = 60)"
   ]
  },
  {
   "cell_type": "code",
   "execution_count": null,
   "metadata": {},
   "outputs": [],
   "source": [
    "print(\"Número de pruebas terminadas: \", len(study.trials))\n",
    "\n",
    "trial = study.best_trial\n",
    "\n",
    "print(\"Mejor intento: \", trial)\n",
    "\n",
    "print(\"Valor: \", trial.value)\n",
    "print(\"Hiperparámetros: \", trial.params)"
   ]
  },
  {
   "cell_type": "code",
   "execution_count": null,
   "metadata": {},
   "outputs": [],
   "source": [
    "from optuna.visualization import plot_optimization_history\n",
    "from optuna.visualization import plot_parallel_coordinate\n",
    "from optuna.visualization import plot_slice\n",
    "from optuna.visualization import plot_param_importances\n",
    "from optuna.visualization import plot_rank"
   ]
  },
  {
   "cell_type": "code",
   "execution_count": null,
   "metadata": {},
   "outputs": [],
   "source": [
    "len(study.trials)"
   ]
  },
  {
   "cell_type": "code",
   "execution_count": null,
   "metadata": {},
   "outputs": [],
   "source": [
    "import plotly.io as pio\n",
    "pio.renderers.default = \"notebook_connected\""
   ]
  },
  {
   "cell_type": "code",
   "execution_count": null,
   "metadata": {},
   "outputs": [],
   "source": [
    "plot_parallel_coordinate(study)"
   ]
  },
  {
   "cell_type": "code",
   "execution_count": null,
   "metadata": {},
   "outputs": [],
   "source": [
    "plot_param_importances(study)"
   ]
  },
  {
   "cell_type": "code",
   "execution_count": null,
   "metadata": {},
   "outputs": [],
   "source": []
  }
 ],
 "metadata": {
  "kernelspec": {
   "display_name": "Python 3",
   "language": "python",
   "name": "python3"
  },
  "language_info": {
   "codemirror_mode": {
    "name": "ipython",
    "version": 3
   },
   "file_extension": ".py",
   "mimetype": "text/x-python",
   "name": "python",
   "nbconvert_exporter": "python",
   "pygments_lexer": "ipython3",
   "version": "3.8.10"
  }
 },
 "nbformat": 4,
 "nbformat_minor": 2
}
